{
 "cells": [
  {
   "cell_type": "markdown",
   "id": "fatty-penalty",
   "metadata": {},
   "source": [
    "# Amazon-Flex Data Science Dashboard Summary - Juan Moctezuma"
   ]
  },
  {
   "cell_type": "markdown",
   "id": "orange-technician",
   "metadata": {},
   "source": [
    "..."
   ]
  },
  {
   "cell_type": "markdown",
   "id": "cognitive-basement",
   "metadata": {},
   "source": [
    "## 1. Time Series"
   ]
  },
  {
   "cell_type": "markdown",
   "id": "controlling-disposition",
   "metadata": {},
   "source": [
    "#### A. FUEL COST TIME SERIES ANALYSIS  (NOV 2020 - MARCH 2021)"
   ]
  },
  {
   "cell_type": "markdown",
   "id": "material-implement",
   "metadata": {},
   "source": [
    "#### NOTE: ROLLING DATA SIMPLY REPRESENTS BLOCKS FROM 2021"
   ]
  },
  {
   "cell_type": "markdown",
   "id": "flush-massage",
   "metadata": {},
   "source": [
    "<img src=\"DASHBOARD_IMAGES/TimeSeries_1.png\" width=80% height=80%>"
   ]
  },
  {
   "cell_type": "markdown",
   "id": "operating-leader",
   "metadata": {},
   "source": [
    "#### B. FUEL COST TIME SERIES FORECAST (NOV 2020 - MARCH 2021) - MACHINE LEARNING"
   ]
  },
  {
   "cell_type": "markdown",
   "id": "blond-wonder",
   "metadata": {},
   "source": [
    "<img src=\"DASHBOARD_IMAGES/TimeSeries_2.png\" width=80% height=80%>"
   ]
  },
  {
   "cell_type": "markdown",
   "id": "inclusive-assistant",
   "metadata": {},
   "source": [
    "## 2. SIMPLE LINEAR REGRESSION - MACHINE LEARNING"
   ]
  },
  {
   "cell_type": "markdown",
   "id": "dependent-jungle",
   "metadata": {},
   "source": [
    "#### A. REGRESSION 1 - MILEAGE WITH RESPECT TO TIME  (NOV 2020 - MARCH 2021)"
   ]
  },
  {
   "cell_type": "markdown",
   "id": "fundamental-exemption",
   "metadata": {},
   "source": [
    "<img src=\"DASHBOARD_IMAGES/Linear_Regression_1.png\" width=70% height=70%>"
   ]
  },
  {
   "cell_type": "markdown",
   "id": "varying-crown",
   "metadata": {},
   "source": [
    "#### B. REGRESSION 2 - MILEAGE VS. TOTAL PACKAGE NO.  (JANUARY 2021 - MARCH 2021)"
   ]
  },
  {
   "cell_type": "markdown",
   "id": "through-faculty",
   "metadata": {},
   "source": [
    "<img src=\"DASHBOARD_IMAGES/Linear_Regression_2.png\" width=70% height=70%>"
   ]
  },
  {
   "cell_type": "markdown",
   "id": "accepting-grade",
   "metadata": {},
   "source": [
    "## 3. LOGISTICS REGRESSION - MACHINE LEARNING"
   ]
  },
  {
   "cell_type": "markdown",
   "id": "considered-processing",
   "metadata": {},
   "source": [
    "#### A. REGRESSION 1 - TOTAL PACKAGE NO. PER ROUTE  (JANUARY 2021 - MARCH 2021)"
   ]
  },
  {
   "cell_type": "markdown",
   "id": "differential-occupation",
   "metadata": {},
   "source": [
    "#### NOTE: VALUES OF '1' ARE BLOCKS THAT THEIR 1st DELIVERY ADDRESS IS LESS THAN 10 MILES FROM THE STARTING POINT"
   ]
  },
  {
   "cell_type": "markdown",
   "id": "ultimate-reset",
   "metadata": {},
   "source": [
    "<img src=\"DASHBOARD_IMAGES/Logistics_Regression.png\" width=75% height=75%>"
   ]
  },
  {
   "cell_type": "markdown",
   "id": "dress-mouse",
   "metadata": {},
   "source": [
    "## 4. STATISTICAL HYPOTHESIS TESTING"
   ]
  },
  {
   "cell_type": "markdown",
   "id": "desirable-telling",
   "metadata": {},
   "source": [
    "#### A. TESTING FOR NEIGHBORHOOD COUNT PROBABILITIES - TWO-TAILED T-TEST (JANUARY 2021 - MARCH 2021)"
   ]
  },
  {
   "cell_type": "markdown",
   "id": "impaired-saver",
   "metadata": {},
   "source": [
    "#### WE ACCEPT THE NULL HYPOTHESIS STATING THAT THE AVERAGE IS 2 NEIGHBORHOODS PER BLOCK"
   ]
  },
  {
   "cell_type": "markdown",
   "id": "sticky-intention",
   "metadata": {},
   "source": [
    "<img src=\"DASHBOARD_IMAGES/Test_1.png\" width=50% height=50%>"
   ]
  },
  {
   "cell_type": "markdown",
   "id": "challenging-notification",
   "metadata": {},
   "source": [
    "#### B. TESTING FOR THE PROBABILITY OF WORKING IN DOWNTOWN - ONE-TAILED T-TEST (JANUARY 2021 - MARCH 2021)¶"
   ]
  },
  {
   "cell_type": "markdown",
   "id": "billion-partnership",
   "metadata": {},
   "source": [
    "#### WE REJECT THE NULL HYPOTHESIS STATING THAT THE PROBABILITY OF WORKING IN DOWNTOWN IS GREATER THAN 50%"
   ]
  },
  {
   "cell_type": "markdown",
   "id": "nonprofit-oxford",
   "metadata": {},
   "source": [
    "<img src=\"DASHBOARD_IMAGES/Test_2.png\" width=50% height=50%>"
   ]
  },
  {
   "cell_type": "markdown",
   "id": "related-integrity",
   "metadata": {},
   "source": [
    "## 5. CLUSTERING ANALYSIS - UNSUPERVISED MACHINE LEARNING"
   ]
  },
  {
   "cell_type": "markdown",
   "id": "experienced-amsterdam",
   "metadata": {},
   "source": [
    "#### A. DELIVERY ANALYSIS - CENTROIDS ARE X's (JANUARY 2021 - MARCH 2021)"
   ]
  },
  {
   "cell_type": "markdown",
   "id": "adolescent-olympus",
   "metadata": {},
   "source": [
    "#### NOTE: BLUE STANDS FOR OUTSTANDING PERFORMANCE\n",
    "#### NOTE: RED STANDS FOR AVERAGE PERFORMANCE"
   ]
  },
  {
   "cell_type": "markdown",
   "id": "imported-software",
   "metadata": {},
   "source": [
    "<img src=\"DASHBOARD_IMAGES/Cluster_1.png\" width=75% height=75%>"
   ]
  },
  {
   "cell_type": "markdown",
   "id": "buried-painting",
   "metadata": {},
   "source": [
    "#### B. PERFORMANCE CLUSTER ANALYSIS - CENTROIDS ARE X's (JANUARY 2021 - MARCH 2021)"
   ]
  },
  {
   "cell_type": "markdown",
   "id": "geographic-frequency",
   "metadata": {},
   "source": [
    "#### NOTE: BLUE STANDS FOR OUTSTANDING PERFORMANCE\n",
    "#### NOTE: RED STANDS FOR AVERAGE PERFORMANCE"
   ]
  },
  {
   "cell_type": "markdown",
   "id": "alike-converter",
   "metadata": {},
   "source": [
    "<img src=\"DASHBOARD_IMAGES/Cluster_2.png\" width=75% height=75%>"
   ]
  },
  {
   "cell_type": "code",
   "execution_count": null,
   "id": "endangered-undergraduate",
   "metadata": {},
   "outputs": [],
   "source": []
  }
 ],
 "metadata": {
  "kernelspec": {
   "display_name": "Python 3",
   "language": "python",
   "name": "python3"
  },
  "language_info": {
   "codemirror_mode": {
    "name": "ipython",
    "version": 3
   },
   "file_extension": ".py",
   "mimetype": "text/x-python",
   "name": "python",
   "nbconvert_exporter": "python",
   "pygments_lexer": "ipython3",
   "version": "3.7.0"
  }
 },
 "nbformat": 4,
 "nbformat_minor": 5
}
