{
 "cells": [
  {
   "cell_type": "markdown",
   "id": "yellow-cosmetic",
   "metadata": {},
   "source": [
    "# Amazon-Flex Data Science Techniques (Part III) - Juan Moctezuma\n",
    "\n",
    "The following script creates a Logistic Regression. The data comes from the DISTANCES_ANALYSIS.csv which contains 2021 data from the RDF (Raw Data File) CSV file. \n",
    "\n",
    "The model is based on the following question, do routes or blocks that involve neighborhoods in which the first delivery address is LESS THAN 10 miles from the warehouse get MORE packages? Blocks (see dates) with a '1' represent shifts in which the warehouse-neighborhood's minimum approximate distance (WHS-NBHD_MIN-APPROX-DIST from the Raw Data File) is less than 10 miles. Those with '0' represent districts or delivery zones that are relatively far from the warehouse. \n",
    "\n",
    "No historical data (incomplete information compiled on year 2020; which exists prior to the creation of this project) is included for this model.   "
   ]
  },
  {
   "cell_type": "markdown",
   "id": "decimal-scotland",
   "metadata": {},
   "source": [
    "..."
   ]
  },
  {
   "cell_type": "markdown",
   "id": "canadian-spectrum",
   "metadata": {},
   "source": [
    "## 1. Distance Analysis"
   ]
  },
  {
   "cell_type": "markdown",
   "id": "uniform-disclaimer",
   "metadata": {},
   "source": [
    "The first step is to install the required libraries."
   ]
  },
  {
   "cell_type": "code",
   "execution_count": null,
   "id": "sustainable-removal",
   "metadata": {},
   "outputs": [],
   "source": [
    "#!pip install numpy"
   ]
  },
  {
   "cell_type": "code",
   "execution_count": null,
   "id": "elementary-candle",
   "metadata": {},
   "outputs": [],
   "source": [
    "#!pip install matplotlib"
   ]
  },
  {
   "cell_type": "code",
   "execution_count": null,
   "id": "sealed-traveler",
   "metadata": {},
   "outputs": [],
   "source": [
    "#!pip install pandas"
   ]
  },
  {
   "cell_type": "code",
   "execution_count": null,
   "id": "combined-sociology",
   "metadata": {},
   "outputs": [],
   "source": [
    "#!pip install sklearn"
   ]
  },
  {
   "cell_type": "code",
   "execution_count": null,
   "id": "military-constitution",
   "metadata": {},
   "outputs": [],
   "source": [
    "#!pip install seaborn"
   ]
  },
  {
   "cell_type": "code",
   "execution_count": null,
   "id": "tender-calculator",
   "metadata": {},
   "outputs": [],
   "source": [
    "#!pip install scipy"
   ]
  },
  {
   "cell_type": "code",
   "execution_count": null,
   "id": "sapphire-chance",
   "metadata": {},
   "outputs": [],
   "source": [
    "#!pip install pylab"
   ]
  },
  {
   "cell_type": "markdown",
   "id": "atomic-warren",
   "metadata": {},
   "source": [
    "Then import the libraries that you installed."
   ]
  },
  {
   "cell_type": "code",
   "execution_count": 1,
   "id": "homeless-blues",
   "metadata": {},
   "outputs": [],
   "source": [
    "import numpy as np\n",
    "import pandas as pd\n",
    "from matplotlib import pyplot as plt\n",
    "%matplotlib inline\n",
    "import math\n",
    "import seaborn as sns\n",
    "from scipy.special import expit\n",
    "from sklearn import linear_model\n",
    "from sklearn.datasets import make_classification\n",
    "from sklearn.linear_model import LogisticRegression\n",
    "from sklearn.metrics import accuracy_score\n",
    "from sklearn.metrics import classification_report\n",
    "from sklearn.metrics import confusion_matrix\n",
    "from sklearn.model_selection import train_test_split\n",
    "from sklearn.preprocessing import StandardScaler"
   ]
  },
  {
   "cell_type": "markdown",
   "id": "yellow-plane",
   "metadata": {},
   "source": [
    "Once the distance data csv is placed on the correct folder, you may use pandas to read the file and create dataframe. A common practice is to print the data from your csv to make sure everything is loaded correctly."
   ]
  },
  {
   "cell_type": "code",
   "execution_count": 2,
   "id": "scientific-iceland",
   "metadata": {},
   "outputs": [
    {
     "data": {
      "text/plain": [
       "DATE                        datetime64[ns]\n",
       "WHS-NBHD_MIN-APPROX-DIST           float64\n",
       "TOTAL_PKGS                           int64\n",
       "DIST_LESS_THAN_TEN                   int64\n",
       "dtype: object"
      ]
     },
     "execution_count": 2,
     "metadata": {},
     "output_type": "execute_result"
    }
   ],
   "source": [
    "data = pd.read_csv(\"Data/DISTANCES_ANALYSIS.csv\")\n",
    "data['DATE'] = pd.to_datetime(data['DATE'], infer_datetime_format = True)\n",
    "\n",
    "df = pd.DataFrame(data, columns= ['DATE','WHS-NBHD_MIN-APPROX-DIST','TOTAL_PKGS','DIST_LESS_THAN_TEN'])\n",
    "df.dtypes"
   ]
  },
  {
   "cell_type": "markdown",
   "id": "broadband-acquisition",
   "metadata": {},
   "source": [
    "A common practice is to print the data from your csv to make sure everything is loaded correctly. On the 'DIST_LESS_THAN_TEN'column, '1' stands for TRUE and '0' for FALSE. All distances in this project are measured with miles."
   ]
  },
  {
   "cell_type": "code",
   "execution_count": 3,
   "id": "innocent-lightweight",
   "metadata": {},
   "outputs": [
    {
     "name": "stdout",
     "output_type": "stream",
     "text": [
      "        DATE  WHS-NBHD_MIN-APPROX-DIST  TOTAL_PKGS  DIST_LESS_THAN_TEN\n",
      "0 2021-01-02                       4.5          54                   1\n",
      "1 2021-01-08                      13.7          38                   0\n",
      "2 2021-01-15                       7.6          33                   1\n",
      "3 2021-01-22                       8.7          40                   1\n",
      "4 2021-01-29                      13.0          30                   0\n",
      "5 2021-02-05                       8.5          39                   1\n",
      "6 2021-02-12                       9.3          31                   1\n",
      "7 2021-02-13                       6.0          46                   1\n",
      "8 2021-02-19                      13.0          26                   0\n",
      "9 2021-02-26                       9.3          28                   1\n"
     ]
    }
   ],
   "source": [
    "print(df)"
   ]
  },
  {
   "cell_type": "markdown",
   "id": "abroad-happiness",
   "metadata": {},
   "source": [
    "The following script generates the original (binary) distance analysis (scatter plot). Why binary? As mentioned on the introduction, green points with a y-value of 1 are those routes that their first delivery address(es) are 'relatively' close to the warehouse (starting point) or less than 10 miles away. \n",
    "\n",
    "Green points with a y-value of zero represent places that are far away from the warehouse. Data gets updated on a weekly basis."
   ]
  },
  {
   "cell_type": "code",
   "execution_count": 4,
   "id": "expected-aerospace",
   "metadata": {},
   "outputs": [
    {
     "data": {
      "image/png": "[encoded data removed]",
      "text/plain": [
       "<Figure size 720x720 with 1 Axes>"
      ]
     },
     "metadata": {
      "needs_background": "light"
     },
     "output_type": "display_data"
    }
   ],
   "source": [
    "fig, ax = plt.subplots()\n",
    "\n",
    "X = data['TOTAL_PKGS']\n",
    "y = data['DIST_LESS_THAN_TEN']\n",
    "plt.scatter(X, y, color = 'green', edgecolor = 'black', linewidth = 1, marker = 'o')\n",
    "\n",
    "plt.title('DISTANCE ANALYSIS (YEAR 2021)')\n",
    "plt.xlabel(\"TOTAL PACKAGE NO. PER ROUTE\", labelpad = 15)\n",
    "plt.ylabel(\"BINARY RESULT (ZERO OR ONE)\", labelpad = 15)\n",
    "plt.grid()\n",
    "plt.gcf().set_size_inches((10, 10))\n",
    "plt.show()"
   ]
  },
  {
   "cell_type": "markdown",
   "id": "processed-bennett",
   "metadata": {},
   "source": [
    "## 2. Logistic Regression"
   ]
  },
  {
   "cell_type": "markdown",
   "id": "noted-covering",
   "metadata": {},
   "source": [
    "To train our model we now declare 'X' by iterating numerical data from the distances CSV, and we declare 'y' by iterating the binary results. "
   ]
  },
  {
   "cell_type": "code",
   "execution_count": 5,
   "id": "chemical-bleeding",
   "metadata": {},
   "outputs": [],
   "source": [
    "X = df.iloc[:,[1,2]].values\n",
    "y = df.iloc[:,3].values"
   ]
  },
  {
   "cell_type": "code",
   "execution_count": 6,
   "id": "monetary-telescope",
   "metadata": {},
   "outputs": [],
   "source": [
    "#print(X)\n",
    "#print(y)"
   ]
  },
  {
   "cell_type": "markdown",
   "id": "confused-breach",
   "metadata": {},
   "source": [
    "The following functions that are used to set up the model come from sklearn module."
   ]
  },
  {
   "cell_type": "code",
   "execution_count": 7,
   "id": "impressed-experiment",
   "metadata": {},
   "outputs": [],
   "source": [
    "X_train, X_test, y_train, y_test = train_test_split(X, y, test_size=0.25, random_state=0)"
   ]
  },
  {
   "cell_type": "code",
   "execution_count": 8,
   "id": "going-surprise",
   "metadata": {},
   "outputs": [],
   "source": [
    "sc = StandardScaler()\n",
    "X_train = sc.fit_transform(X_train)\n",
    "X_test = sc.transform(X_test)"
   ]
  },
  {
   "cell_type": "code",
   "execution_count": 9,
   "id": "therapeutic-translator",
   "metadata": {},
   "outputs": [
    {
     "data": {
      "text/plain": [
       "LogisticRegression(random_state=0)"
      ]
     },
     "execution_count": 9,
     "metadata": {},
     "output_type": "execute_result"
    }
   ],
   "source": [
    "classifier = LogisticRegression(random_state=0)\n",
    "classifier.fit(X_train, y_train)"
   ]
  },
  {
   "cell_type": "code",
   "execution_count": 10,
   "id": "cubic-liechtenstein",
   "metadata": {},
   "outputs": [],
   "source": [
    "y_pred=classifier.predict(X_test)"
   ]
  },
  {
   "cell_type": "markdown",
   "id": "governing-belly",
   "metadata": {},
   "source": [
    "Accuracy score is expected to be low because the dataset is quite small yet. We'll see how the scores change as more data gets compiled! "
   ]
  },
  {
   "cell_type": "code",
   "execution_count": 11,
   "id": "latter-contributor",
   "metadata": {},
   "outputs": [
    {
     "data": {
      "text/plain": [
       "33.33333333333333"
      ]
     },
     "execution_count": 11,
     "metadata": {},
     "output_type": "execute_result"
    }
   ],
   "source": [
    "accuracy_score(y_test, y_pred)*100"
   ]
  },
  {
   "cell_type": "markdown",
   "id": "buried-postcard",
   "metadata": {},
   "source": [
    "We now plot our model! The LogisticRegression and fit function come from the sklearn module. "
   ]
  },
  {
   "cell_type": "code",
   "execution_count": 12,
   "id": "backed-competition",
   "metadata": {},
   "outputs": [],
   "source": [
    "X = data['TOTAL_PKGS']\n",
    "y = data['DIST_LESS_THAN_TEN']"
   ]
  },
  {
   "cell_type": "markdown",
   "id": "ethical-stand",
   "metadata": {},
   "source": [
    "The dimension of the array needs to get re-shaped."
   ]
  },
  {
   "cell_type": "code",
   "execution_count": 13,
   "id": "demonstrated-postage",
   "metadata": {},
   "outputs": [],
   "source": [
    "X = np.array(X).reshape(-1,1)"
   ]
  },
  {
   "cell_type": "code",
   "execution_count": 14,
   "id": "threatened-parent",
   "metadata": {},
   "outputs": [
    {
     "data": {
      "text/plain": [
       "LogisticRegression(C=100000.0)"
      ]
     },
     "execution_count": 14,
     "metadata": {},
     "output_type": "execute_result"
    }
   ],
   "source": [
    "model = linear_model.LogisticRegression(C=1e5, solver='lbfgs')\n",
    "model.fit(X, y)"
   ]
  },
  {
   "cell_type": "markdown",
   "id": "agreed-landscape",
   "metadata": {},
   "source": [
    "The linspace function is used to set up an interval."
   ]
  },
  {
   "cell_type": "code",
   "execution_count": 15,
   "id": "whole-statistics",
   "metadata": {},
   "outputs": [],
   "source": [
    "x_test = np.linspace(10,55,100)"
   ]
  },
  {
   "cell_type": "markdown",
   "id": "important-senate",
   "metadata": {},
   "source": [
    "Predict dummy y_test data based on the logistic model."
   ]
  },
  {
   "cell_type": "code",
   "execution_count": 16,
   "id": "thirty-probe",
   "metadata": {},
   "outputs": [],
   "source": [
    "y_test = x_test * model.coef_ + model.intercept_\n",
    "sigmoid = expit(y_test)"
   ]
  },
  {
   "cell_type": "markdown",
   "id": "forty-tuesday",
   "metadata": {},
   "source": [
    "We use a scatter plot and we fit in the logistic regression within it."
   ]
  },
  {
   "cell_type": "code",
   "execution_count": 17,
   "id": "selected-token",
   "metadata": {},
   "outputs": [
    {
     "data": {
      "image/png": "[encoded data removed]",
      "text/plain": [
       "<Figure size 720x720 with 1 Axes>"
      ]
     },
     "metadata": {
      "needs_background": "light"
     },
     "output_type": "display_data"
    }
   ],
   "source": [
    "plt.scatter(X, y, color = 'green', edgecolor = 'black', linewidth = 1, marker = 'o')\n",
    "plt.plot(x_test,sigmoid.ravel(),c=\"green\", label = \"Logistic Fit\")\n",
    "plt.axhline(.5, color=\"red\", label=\"Cutoff\")\n",
    "plt.legend(loc=\"lower right\")\n",
    "\n",
    "# ravel to convert the 2-d array to a flat array\n",
    "plt.title('LOGISTIC REGRESSION (10-MILE MIN. DISTANCE )')\n",
    "plt.xlabel(\"TOTAL PACKAGE NO. PER ROUTE\", labelpad = 15)\n",
    "plt.ylabel(\"BINARY RESULT (ZERO OR ONE)\", labelpad = 15)\n",
    "plt.gcf().set_size_inches((10, 10))\n",
    "plt.show()"
   ]
  },
  {
   "cell_type": "markdown",
   "id": "suspended-american",
   "metadata": {},
   "source": [
    "## 3. Conclusion"
   ]
  },
  {
   "cell_type": "code",
   "execution_count": null,
   "id": "increased-spotlight",
   "metadata": {},
   "outputs": [],
   "source": [
    "# The logistic regression model supports the idea that Amazon’s algorithms assign a larger random number of packages \n",
    "# to contractors when block routes take place in areas that are relatively close to the warehouse (point of origin). \n",
    "# Therefore, it is statistically more likely for Amazon partners to get less packages for routes that are distant \n",
    "# from the warehouse."
   ]
  },
  {
   "cell_type": "code",
   "execution_count": null,
   "id": "governing-formation",
   "metadata": {},
   "outputs": [],
   "source": [
    "# The original question that allowed the application of this machine learning technique was: Do routes or blocks that \n",
    "# involve neighborhoods in which the first delivery address is LESS THAN 10 miles from the Amazon warehouse get MORE \n",
    "# packages?"
   ]
  },
  {
   "cell_type": "code",
   "execution_count": null,
   "id": "fossil-sense",
   "metadata": {},
   "outputs": [],
   "source": [
    "# The appearance of this model might change as the dataset gets larger. Anyhow, as the total package number increases,\n",
    "# the logistic fit or green line (see previous slide) converges to ‘1’. Recall that ‘1’ represents routes that are \n",
    "# categorized as those that have a ‘min. distance that is less than 10 miles.’"
   ]
  }
 ],
 "metadata": {
  "kernelspec": {
   "display_name": "Python 3",
   "language": "python",
   "name": "python3"
  },
  "language_info": {
   "codemirror_mode": {
    "name": "ipython",
    "version": 3
   },
   "file_extension": ".py",
   "mimetype": "text/x-python",
   "name": "python",
   "nbconvert_exporter": "python",
   "pygments_lexer": "ipython3",
   "version": "3.7.0"
  }
 },
 "nbformat": 4,
 "nbformat_minor": 5
}
