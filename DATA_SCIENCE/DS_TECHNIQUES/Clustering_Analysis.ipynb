{
 "cells": [
  {
   "cell_type": "markdown",
   "id": "quality-gravity",
   "metadata": {},
   "source": [
    "# Amazon-Flex Data Science Techniques (Part V) - Juan Moctezuma\n",
    "\n",
    "The following script generates an elbow method plot (for the sum of squared distances) and a cluster analysis. The data comes from the ON-TIME_DELIVERY_ANALYSIS.csv which contains 2021 data from the RDF (Raw Data File) CSV file. \n",
    "\n",
    "The cluster analysis classifies the performance of each block based on a 'shift duration vs. total packages' plot. Random centroids are created based on current data and these classify each data point into clusters. How do we know how many clusters do we need? By looking at the 'elbow' plot and visually estimating 'k' number of clusters by observing the segments on the graph. Please note that as an Amazon contractor, you are randomly assigned deliveries in which the number of given boxes or envelops will be different every block.      \n",
    "\n",
    "No historical data (incomplete information compiled on year 2020; which exists prior to the creation of this project) is included for this model. "
   ]
  },
  {
   "cell_type": "markdown",
   "id": "worse-scholar",
   "metadata": {},
   "source": [
    "..."
   ]
  },
  {
   "cell_type": "markdown",
   "id": "sexual-forestry",
   "metadata": {},
   "source": [
    "## 1. Before performing the Cluster Analysis"
   ]
  },
  {
   "cell_type": "markdown",
   "id": "greek-telephone",
   "metadata": {},
   "source": [
    "The first step is to install the required libraries."
   ]
  },
  {
   "cell_type": "code",
   "execution_count": null,
   "id": "likely-curve",
   "metadata": {},
   "outputs": [],
   "source": [
    "#!pip install pandas"
   ]
  },
  {
   "cell_type": "code",
   "execution_count": null,
   "id": "visible-theology",
   "metadata": {},
   "outputs": [],
   "source": [
    "#!pip install numpy"
   ]
  },
  {
   "cell_type": "code",
   "execution_count": null,
   "id": "combined-wyoming",
   "metadata": {},
   "outputs": [],
   "source": [
    "#!pip install matplotlib"
   ]
  },
  {
   "cell_type": "code",
   "execution_count": null,
   "id": "intellectual-paintball",
   "metadata": {},
   "outputs": [],
   "source": [
    "#!pip install scipy"
   ]
  },
  {
   "cell_type": "code",
   "execution_count": null,
   "id": "fatty-dinner",
   "metadata": {},
   "outputs": [],
   "source": [
    "#!pip install seaborn"
   ]
  },
  {
   "cell_type": "code",
   "execution_count": null,
   "id": "digital-spouse",
   "metadata": {},
   "outputs": [],
   "source": [
    "#!pip install sklearn"
   ]
  },
  {
   "cell_type": "markdown",
   "id": "lucky-administration",
   "metadata": {},
   "source": [
    "Then import the libraries that you installed."
   ]
  },
  {
   "cell_type": "code",
   "execution_count": 1,
   "id": "dried-evolution",
   "metadata": {},
   "outputs": [],
   "source": [
    "import numpy as np\n",
    "import pandas as pd\n",
    "import seaborn as sns\n",
    "import matplotlib.pyplot as plt\n",
    "%matplotlib inline\n",
    "import copy\n",
    "\n",
    "from sklearn.cluster import KMeans\n",
    "#from sklearn import preprocessing\n",
    "from sklearn.preprocessing import StandardScaler\n",
    "from sklearn.preprocessing import LabelEncoder"
   ]
  },
  {
   "cell_type": "markdown",
   "id": "empty-lewis",
   "metadata": {},
   "source": [
    "We need to get our data. Once the delivery data csv is placed on the correct folder, you may use pandas to read the file and create dataframe. A common practice is to print the data from your csv to make sure everything is loaded correctly."
   ]
  },
  {
   "cell_type": "code",
   "execution_count": 2,
   "id": "different-humanitarian",
   "metadata": {},
   "outputs": [
    {
     "data": {
      "text/plain": [
       "DURATION_DIFFERENCE    float64\n",
       "TOTAL_PKGS               int64\n",
       "dtype: object"
      ]
     },
     "execution_count": 2,
     "metadata": {},
     "output_type": "execute_result"
    }
   ],
   "source": [
    "data = pd.read_csv(\"Data/ON-TIME_DELIVERY_ANALYSIS.csv\")\n",
    "data['DATE'] = pd.to_datetime(data['DATE'], infer_datetime_format = True)\n",
    "\n",
    "df = pd.DataFrame(data, columns= ['DURATION_DIFFERENCE','TOTAL_PKGS'])\n",
    "df.dtypes"
   ]
  },
  {
   "cell_type": "markdown",
   "id": "gothic-mount",
   "metadata": {},
   "source": [
    "A common practice is to display the data from your csv to make sure everything is loaded correctly. "
   ]
  },
  {
   "cell_type": "code",
   "execution_count": 3,
   "id": "unnecessary-upset",
   "metadata": {},
   "outputs": [
    {
     "data": {
      "text/html": [
       "<div>\n",
       "<style scoped>\n",
       "    .dataframe tbody tr th:only-of-type {\n",
       "        vertical-align: middle;\n",
       "    }\n",
       "\n",
       "    .dataframe tbody tr th {\n",
       "        vertical-align: top;\n",
       "    }\n",
       "\n",
       "    .dataframe thead th {\n",
       "        text-align: right;\n",
       "    }\n",
       "</style>\n",
       "<table border=\"1\" class=\"dataframe\">\n",
       "  <thead>\n",
       "    <tr style=\"text-align: right;\">\n",
       "      <th></th>\n",
       "      <th>DURATION_DIFFERENCE</th>\n",
       "      <th>TOTAL_PKGS</th>\n",
       "    </tr>\n",
       "  </thead>\n",
       "  <tbody>\n",
       "    <tr>\n",
       "      <th>0</th>\n",
       "      <td>0.0</td>\n",
       "      <td>54</td>\n",
       "    </tr>\n",
       "    <tr>\n",
       "      <th>1</th>\n",
       "      <td>1.0</td>\n",
       "      <td>38</td>\n",
       "    </tr>\n",
       "    <tr>\n",
       "      <th>2</th>\n",
       "      <td>2.5</td>\n",
       "      <td>33</td>\n",
       "    </tr>\n",
       "    <tr>\n",
       "      <th>3</th>\n",
       "      <td>1.0</td>\n",
       "      <td>40</td>\n",
       "    </tr>\n",
       "    <tr>\n",
       "      <th>4</th>\n",
       "      <td>0.5</td>\n",
       "      <td>30</td>\n",
       "    </tr>\n",
       "    <tr>\n",
       "      <th>5</th>\n",
       "      <td>1.5</td>\n",
       "      <td>39</td>\n",
       "    </tr>\n",
       "    <tr>\n",
       "      <th>6</th>\n",
       "      <td>1.5</td>\n",
       "      <td>31</td>\n",
       "    </tr>\n",
       "    <tr>\n",
       "      <th>7</th>\n",
       "      <td>0.5</td>\n",
       "      <td>46</td>\n",
       "    </tr>\n",
       "    <tr>\n",
       "      <th>8</th>\n",
       "      <td>-0.2</td>\n",
       "      <td>26</td>\n",
       "    </tr>\n",
       "    <tr>\n",
       "      <th>9</th>\n",
       "      <td>-0.1</td>\n",
       "      <td>28</td>\n",
       "    </tr>\n",
       "    <tr>\n",
       "      <th>10</th>\n",
       "      <td>0.5</td>\n",
       "      <td>25</td>\n",
       "    </tr>\n",
       "  </tbody>\n",
       "</table>\n",
       "</div>"
      ],
      "text/plain": [
       "    DURATION_DIFFERENCE  TOTAL_PKGS\n",
       "0                   0.0          54\n",
       "1                   1.0          38\n",
       "2                   2.5          33\n",
       "3                   1.0          40\n",
       "4                   0.5          30\n",
       "5                   1.5          39\n",
       "6                   1.5          31\n",
       "7                   0.5          46\n",
       "8                  -0.2          26\n",
       "9                  -0.1          28\n",
       "10                  0.5          25"
      ]
     },
     "metadata": {},
     "output_type": "display_data"
    }
   ],
   "source": [
    "display(df)"
   ]
  },
  {
   "cell_type": "markdown",
   "id": "collaborative-acrylic",
   "metadata": {},
   "source": [
    "We use 'describe' to see the numerical data's basic statistics."
   ]
  },
  {
   "cell_type": "code",
   "execution_count": 4,
   "id": "complete-nelson",
   "metadata": {},
   "outputs": [
    {
     "data": {
      "text/html": [
       "<div>\n",
       "<style scoped>\n",
       "    .dataframe tbody tr th:only-of-type {\n",
       "        vertical-align: middle;\n",
       "    }\n",
       "\n",
       "    .dataframe tbody tr th {\n",
       "        vertical-align: top;\n",
       "    }\n",
       "\n",
       "    .dataframe thead th {\n",
       "        text-align: right;\n",
       "    }\n",
       "</style>\n",
       "<table border=\"1\" class=\"dataframe\">\n",
       "  <thead>\n",
       "    <tr style=\"text-align: right;\">\n",
       "      <th></th>\n",
       "      <th>DURATION_DIFFERENCE</th>\n",
       "      <th>TOTAL_PKGS</th>\n",
       "    </tr>\n",
       "  </thead>\n",
       "  <tbody>\n",
       "    <tr>\n",
       "      <th>count</th>\n",
       "      <td>11.000000</td>\n",
       "      <td>11.000000</td>\n",
       "    </tr>\n",
       "    <tr>\n",
       "      <th>mean</th>\n",
       "      <td>0.790909</td>\n",
       "      <td>35.454545</td>\n",
       "    </tr>\n",
       "    <tr>\n",
       "      <th>std</th>\n",
       "      <td>0.816645</td>\n",
       "      <td>8.970659</td>\n",
       "    </tr>\n",
       "    <tr>\n",
       "      <th>min</th>\n",
       "      <td>-0.200000</td>\n",
       "      <td>25.000000</td>\n",
       "    </tr>\n",
       "    <tr>\n",
       "      <th>25%</th>\n",
       "      <td>0.250000</td>\n",
       "      <td>29.000000</td>\n",
       "    </tr>\n",
       "    <tr>\n",
       "      <th>50%</th>\n",
       "      <td>0.500000</td>\n",
       "      <td>33.000000</td>\n",
       "    </tr>\n",
       "    <tr>\n",
       "      <th>75%</th>\n",
       "      <td>1.250000</td>\n",
       "      <td>39.500000</td>\n",
       "    </tr>\n",
       "    <tr>\n",
       "      <th>max</th>\n",
       "      <td>2.500000</td>\n",
       "      <td>54.000000</td>\n",
       "    </tr>\n",
       "  </tbody>\n",
       "</table>\n",
       "</div>"
      ],
      "text/plain": [
       "       DURATION_DIFFERENCE  TOTAL_PKGS\n",
       "count            11.000000   11.000000\n",
       "mean              0.790909   35.454545\n",
       "std               0.816645    8.970659\n",
       "min              -0.200000   25.000000\n",
       "25%               0.250000   29.000000\n",
       "50%               0.500000   33.000000\n",
       "75%               1.250000   39.500000\n",
       "max               2.500000   54.000000"
      ]
     },
     "execution_count": 4,
     "metadata": {},
     "output_type": "execute_result"
    }
   ],
   "source": [
    "df.describe()"
   ]
  },
  {
   "cell_type": "markdown",
   "id": "norwegian-captain",
   "metadata": {},
   "source": [
    "The following script generates the original (basic) On-Time Delivery Analysis (scatter plot). Data gets updated on a weekly basis."
   ]
  },
  {
   "cell_type": "code",
   "execution_count": 5,
   "id": "pregnant-desert",
   "metadata": {},
   "outputs": [
    {
     "data": {
      "image/png": "[encoded data removed]",
      "text/plain": [
       "<Figure size 720x720 with 1 Axes>"
      ]
     },
     "metadata": {
      "needs_background": "light"
     },
     "output_type": "display_data"
    }
   ],
   "source": [
    "fig, ax = plt.subplots()\n",
    "duration_difference = data['DURATION_DIFFERENCE']\n",
    "tot_pkgs = data['TOTAL_PKGS']\n",
    "\n",
    "plt.scatter(duration_difference, tot_pkgs, color = 'red', edgecolor = 'black', linewidth = 1, marker = 'o')\n",
    "\n",
    "plt.title('DELIVERY ANALYSIS (JAN 2021 - MAR 2021)')\n",
    "plt.xlabel(\"DURATION DIFFERENCE\", labelpad = 15)\n",
    "plt.gcf().autofmt_xdate(rotation = 70)\n",
    "plt.ylabel(\"TOTAL PACKAGES (PER BLOCK)\", labelpad = 15)\n",
    "plt.gcf().set_size_inches((10, 10))\n",
    "plt.show()"
   ]
  },
  {
   "cell_type": "markdown",
   "id": "underlying-morning",
   "metadata": {},
   "source": [
    "## 2. Elbow Method For Optimal k"
   ]
  },
  {
   "cell_type": "code",
   "execution_count": 6,
   "id": "harmful-excitement",
   "metadata": {},
   "outputs": [],
   "source": [
    "mms = StandardScaler()\n",
    "mms.fit(df)\n",
    "normalized_data = mms.transform(df)"
   ]
  },
  {
   "cell_type": "code",
   "execution_count": 7,
   "id": "entitled-marble",
   "metadata": {},
   "outputs": [
    {
     "data": {
      "text/plain": [
       "<Figure size 576x360 with 0 Axes>"
      ]
     },
     "execution_count": 7,
     "metadata": {},
     "output_type": "execute_result"
    },
    {
     "data": {
      "text/plain": [
       "<Figure size 576x360 with 0 Axes>"
      ]
     },
     "metadata": {},
     "output_type": "display_data"
    }
   ],
   "source": [
    "plt.figure(figsize=(8,5))"
   ]
  },
  {
   "cell_type": "code",
   "execution_count": 8,
   "id": "athletic-squad",
   "metadata": {},
   "outputs": [
    {
     "data": {
      "image/png": "[encoded data removed]",
      "text/plain": [
       "<Figure size 720x720 with 1 Axes>"
      ]
     },
     "metadata": {
      "needs_background": "light"
     },
     "output_type": "display_data"
    }
   ],
   "source": [
    "K = range(1,10)\n",
    "Sum_of_squared_distances = []\n",
    "for k in K:\n",
    "    km = KMeans(n_clusters=k)\n",
    "    km = km.fit(normalized_data)\n",
    "    Sum_of_squared_distances.append(km.inertia_)\n",
    "plt.plot(K, Sum_of_squared_distances, 'bx-')\n",
    "plt.xlabel('NO. OF CLUSTERS', labelpad = 15)\n",
    "plt.ylabel('SUM OF SQUARED DISTANCES', labelpad = 15)\n",
    "plt.title('Elbow Method For Optimal k')\n",
    "plt.gcf().set_size_inches((10, 10))\n",
    "plt.show()"
   ]
  },
  {
   "cell_type": "markdown",
   "id": "reliable-rover",
   "metadata": {},
   "source": [
    "Notice the marker (cross) or 'elbow joint' is k=3, but based on our needs we may pick k=2, because we may decide how many clusters we need to classify our data points. In this project we only need 2 categories for completed blocks: 'Outstanding Performance' or 'Average Performance'."
   ]
  },
  {
   "cell_type": "markdown",
   "id": "republican-consumption",
   "metadata": {},
   "source": [
    "## 2. Cluster Analysis"
   ]
  },
  {
   "cell_type": "markdown",
   "id": "monetary-secretary",
   "metadata": {},
   "source": [
    "Our first step is to create k-number of centroids (two since that's the number of clusters we need). Centroids are NOT part of the dataset, but 2 points created randomly based on the average distance among data points. The blue and red 'x' are centroids."
   ]
  },
  {
   "cell_type": "code",
   "execution_count": 9,
   "id": "secondary-navigation",
   "metadata": {},
   "outputs": [],
   "source": [
    "duration_difference = np.array(data['DURATION_DIFFERENCE'])\n",
    "duration_difference = list(duration_difference)\n",
    "\n",
    "tot_pkgs = np.array(data['TOTAL_PKGS'])\n",
    "tot_pkgs = list(tot_pkgs)"
   ]
  },
  {
   "cell_type": "markdown",
   "id": "wound-adapter",
   "metadata": {},
   "source": [
    "Numbers in the x-axis were extracted from the difference between the shift's duration and 3 (official block duration determined by Amazon). Negative numbers in the x-axis represent blocks that were completed BEFORE the assigned 3-hour schedule established by Amazon. Most blocks are supposed to last 3 hours but depending on the route, traffic, and other factors, Amazon allows contractors to continue delivering after the shift was officially over. Zero on the x-axis represents blocks that were completed exactly during 3 hours. All positive numbers represent the time difference after the shift was supposed to be completed. "
   ]
  },
  {
   "cell_type": "code",
   "execution_count": 10,
   "id": "plain-nigeria",
   "metadata": {},
   "outputs": [
    {
     "data": {
      "image/png": "[encoded data removed]",
      "text/plain": [
       "<Figure size 720x720 with 1 Axes>"
      ]
     },
     "metadata": {
      "needs_background": "light"
     },
     "output_type": "display_data"
    }
   ],
   "source": [
    "# CENTROID ASSIGNMENT\n",
    "df_v2 = pd.DataFrame({\n",
    "    'x': duration_difference,\n",
    "    'y': tot_pkgs\n",
    "})\n",
    "\n",
    "np.random.seed(12)\n",
    "k = 2\n",
    "# centroids[i] = [x, y]\n",
    "centroids = {\n",
    "    i+1: [np.random.randint(-1, 2), np.random.randint(25, 54)]\n",
    "    for i in range(k)\n",
    "}\n",
    "\n",
    "fig = plt.figure(figsize=(5, 5))\n",
    "plt.scatter(df_v2['x'], df_v2['y'], color='k')\n",
    "colmap = {1: 'b', 2: 'r'}\n",
    "for i in centroids.keys():\n",
    "    plt.scatter(*centroids[i], color=colmap[i], marker='x')\n",
    "\n",
    "plt.xlabel('DURATION DIFFERENCE (HOURS)', labelpad = 15)\n",
    "plt.ylabel('TOTAL PACKAGES (PER ROUTE)', labelpad = 15)\n",
    "plt.title('DELIVERY ANALYSIS (JAN 2021 - MAR 2021)')\n",
    "plt.xlim(-1, 3)\n",
    "plt.ylim(15, 60)\n",
    "plt.gcf().set_size_inches((10, 10))\n",
    "plt.show()"
   ]
  },
  {
   "cell_type": "code",
   "execution_count": 11,
   "id": "reverse-anthropology",
   "metadata": {},
   "outputs": [
    {
     "name": "stdout",
     "output_type": "stream",
     "text": [
      "     x   y  distance_from_1  distance_from_2  closest color\n",
      "0  0.0  54        12.041595        26.019224        1     b\n",
      "1  1.0  38         4.000000        10.000000        1     b\n",
      "2  2.5  33         9.124144         5.220153        2     r\n",
      "3  1.0  40         2.000000        12.000000        1     b\n",
      "4  0.5  30        12.010412         2.061553        2     r\n"
     ]
    },
    {
     "data": {
      "image/png": "[encoded data removed]",
      "text/plain": [
       "<Figure size 720x720 with 1 Axes>"
      ]
     },
     "metadata": {
      "needs_background": "light"
     },
     "output_type": "display_data"
    },
    {
     "data": {
      "text/plain": [
       "'How is performance measured in this analysis?\\nThe greater the number of delivered packages per block relative to the time difference, the better! \\nFor example, observe data points where time difference was 0.5 hrs, blue data points mean MORE boxes \\nor envelopes were delivered despite finishing 30 minutes later, unlike those blocks (red points) where \\nLESS products were delivered and still finished half hour later.'"
      ]
     },
     "execution_count": 11,
     "metadata": {},
     "output_type": "execute_result"
    }
   ],
   "source": [
    "# ASSIGNMENT STAGE\n",
    "def assignment(df, centroids):\n",
    "    for i in centroids.keys():\n",
    "        # sqrt((x1 - x2)^2 - (y1 - y2)^2)\n",
    "        df['distance_from_{}'.format(i)] = (\n",
    "            np.sqrt(\n",
    "                (df['x'] - centroids[i][0])**2 + (df['y'] - centroids[i][1])**2\n",
    "            )\n",
    "        )\n",
    "    centroid_distance_cols = ['distance_from_{}'.format(i) for i in centroids.keys()]\n",
    "    df['closest'] = df.loc[:, centroid_distance_cols].idxmin(axis=1)\n",
    "    df['closest'] = df['closest'].map(lambda x: int(x.lstrip('distance_from_')))\n",
    "    df['color'] = df['closest'].map(lambda x: colmap[x])\n",
    "    return df\n",
    "\n",
    "df_v3 = assignment(df_v2, centroids)\n",
    "print(df_v3.head())\n",
    "\n",
    "fig = plt.figure(figsize=(5, 5))\n",
    "plt.scatter(df_v3['x'], df_v3['y'], color=df_v3['color'], alpha=0.5, edgecolor='k')\n",
    "for i in centroids.keys():\n",
    "    plt.scatter(*centroids[i], color=colmap[i], marker='x')\n",
    "\n",
    "plt.xlabel('DURATION DIFFERENCE (HOURS)', labelpad = 15)\n",
    "plt.ylabel('TOTAL PACKAGES (PER ROUTE)', labelpad = 15)\n",
    "plt.title('PERFORMANCE CLUSTER ANALYSIS')\n",
    "plt.xlim(-1, 3)\n",
    "plt.ylim(15, 60)\n",
    "plt.gcf().set_size_inches((10, 10))\n",
    "plt.show()\n",
    "\n",
    "# BLUE STANDS FOR OUTSTANDING PERFORMANCE\n",
    "# RED STANDS FOR AVERAGE PERFORMANCE\n",
    "'''How is performance measured in this analysis?\n",
    "The greater the number of delivered packages per block relative to the time difference, the better! \n",
    "For example, observe data points where time difference was 0.5 hrs, blue data points mean MORE boxes \n",
    "or envelopes were delivered despite finishing 30 minutes later, unlike those blocks (red points) where \n",
    "LESS products were delivered and still finished half hour later.'''"
   ]
  },
  {
   "cell_type": "code",
   "execution_count": 12,
   "id": "pregnant-height",
   "metadata": {},
   "outputs": [
    {
     "data": {
      "text/plain": [
       "x                  float64\n",
       "y                    int64\n",
       "distance_from_1    float64\n",
       "distance_from_2    float64\n",
       "closest              int64\n",
       "color               object\n",
       "dtype: object"
      ]
     },
     "execution_count": 12,
     "metadata": {},
     "output_type": "execute_result"
    }
   ],
   "source": [
    "df_v3.dtypes"
   ]
  },
  {
   "cell_type": "markdown",
   "id": "possible-smoke",
   "metadata": {},
   "source": [
    "## 3. Conclusion"
   ]
  },
  {
   "cell_type": "code",
   "execution_count": null,
   "id": "monthly-notebook",
   "metadata": {},
   "outputs": [],
   "source": [
    "# The analysis successfully classified 2 different categories. This machine learning technique is considered an \n",
    "# unsupervised method. We may control the number of centroids that we need to produce clusters, but the user or \n",
    "# developer can’t determine how every single data point will be labelled, since the system (or Python’s script \n",
    "# modules) does."
   ]
  },
  {
   "cell_type": "code",
   "execution_count": null,
   "id": "electrical-scanner",
   "metadata": {},
   "outputs": [],
   "source": [
    "# How is performance measured in the cluster analysis? The greater the number of delivered packages per block \n",
    "# relative to the time difference, the better! For example, the case in which blue or red data points (blocks) \n",
    "# had a time difference of 0.5 hours; blue data points mean MORE boxes or envelopes were delivered despite finishing \n",
    "# 30 minutes after the schedule was over, unlike those blocks (red points) where LESS products were delivered and \n",
    "# still finished half hour later."
   ]
  },
  {
   "cell_type": "code",
   "execution_count": null,
   "id": "absolute-guyana",
   "metadata": {},
   "outputs": [],
   "source": [
    "# NOTE: Completing blocks after the assigned schedule (3 hours) don’t necessarily result on late-deliveries or \n",
    "# poor performance."
   ]
  }
 ],
 "metadata": {
  "kernelspec": {
   "display_name": "Python 3",
   "language": "python",
   "name": "python3"
  },
  "language_info": {
   "codemirror_mode": {
    "name": "ipython",
    "version": 3
   },
   "file_extension": ".py",
   "mimetype": "text/x-python",
   "name": "python",
   "nbconvert_exporter": "python",
   "pygments_lexer": "ipython3",
   "version": "3.7.0"
  }
 },
 "nbformat": 4,
 "nbformat_minor": 5
}
