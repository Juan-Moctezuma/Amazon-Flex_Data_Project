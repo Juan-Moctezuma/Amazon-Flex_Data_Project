{
 "cells": [
  {
   "cell_type": "markdown",
   "id": "strange-harvard",
   "metadata": {},
   "source": [
    "# Amazon-Flex Data Science Techniques (Part II) - Juan Moctezuma\n",
    "\n",
    "The following script creates two simple linear regression models. The data for the 1st model comes from the JETTA_VW_CAR_MILEAGE.csv which contains 2021 data from the RDF (Raw Data File) CSV file and historical data (mileage calculations from 2020 that ocurred before this project began). The second model's development was based on data from the SHIFT_DURATION_ANALYSIS.csv file. No historical data is included on the second plot, only 2021 data points. "
   ]
  },
  {
   "cell_type": "markdown",
   "id": "monetary-relations",
   "metadata": {},
   "source": [
    "..."
   ]
  },
  {
   "cell_type": "markdown",
   "id": "removable-decrease",
   "metadata": {},
   "source": [
    "## 1. Mileage Analysis"
   ]
  },
  {
   "cell_type": "markdown",
   "id": "separate-draft",
   "metadata": {},
   "source": [
    "The first step is to install the required libraries."
   ]
  },
  {
   "cell_type": "code",
   "execution_count": null,
   "id": "manual-venture",
   "metadata": {},
   "outputs": [],
   "source": [
    "#!pip install matplotlib"
   ]
  },
  {
   "cell_type": "code",
   "execution_count": null,
   "id": "stainless-finland",
   "metadata": {},
   "outputs": [],
   "source": [
    "#!pip install pandas"
   ]
  },
  {
   "cell_type": "code",
   "execution_count": null,
   "id": "electrical-pride",
   "metadata": {},
   "outputs": [],
   "source": [
    "#!pip install sklearn"
   ]
  },
  {
   "cell_type": "code",
   "execution_count": null,
   "id": "worldwide-analysis",
   "metadata": {},
   "outputs": [],
   "source": [
    "#!pip install seaborn"
   ]
  },
  {
   "cell_type": "code",
   "execution_count": null,
   "id": "junior-chrome",
   "metadata": {},
   "outputs": [],
   "source": [
    "#!pip install scipy"
   ]
  },
  {
   "cell_type": "code",
   "execution_count": null,
   "id": "trying-subscription",
   "metadata": {},
   "outputs": [],
   "source": [
    "#!pip install pylab"
   ]
  },
  {
   "cell_type": "markdown",
   "id": "featured-possible",
   "metadata": {},
   "source": [
    "First step is to import the libraries that you installed."
   ]
  },
  {
   "cell_type": "code",
   "execution_count": 1,
   "id": "japanese-example",
   "metadata": {},
   "outputs": [],
   "source": [
    "import numpy as np\n",
    "import pandas as pd\n",
    "import scipy.stats as sp\n",
    "import matplotlib.pyplot as plt\n",
    "%matplotlib inline\n",
    "import seaborn as sns\n",
    "import pylab as pl\n",
    "from sklearn import linear_model"
   ]
  },
  {
   "cell_type": "markdown",
   "id": "listed-valuation",
   "metadata": {},
   "source": [
    "Once the mileage csv is placed on the correct folder, you may use pandas to read the file and create dataframe. A common practice is to print the data from your csv to make sure everything is loaded correctly."
   ]
  },
  {
   "cell_type": "code",
   "execution_count": 2,
   "id": "stuck-booth",
   "metadata": {},
   "outputs": [],
   "source": [
    "data = pd.read_csv(\"Data/JETTA_VW_CAR_MILEAGE.csv\")\n",
    "df = pd.DataFrame(data, columns= ['DATE','MILEAGE'])"
   ]
  },
  {
   "cell_type": "code",
   "execution_count": 3,
   "id": "affiliated-filename",
   "metadata": {},
   "outputs": [
    {
     "name": "stdout",
     "output_type": "stream",
     "text": [
      "          DATE  MILEAGE\n",
      "0   2020-11-02       31\n",
      "1   2020-11-03       24\n",
      "2   2020-11-04       26\n",
      "3   2020-11-05       21\n",
      "4   2020-11-06       40\n",
      "5   2020-11-09       23\n",
      "6   2020-11-10       23\n",
      "7   2020-11-14       21\n",
      "8   2020-11-17       15\n",
      "9   2020-11-19       20\n",
      "10  2020-11-23       35\n",
      "11  2020-12-04       52\n",
      "12  2020-12-18       20\n",
      "13  2020-12-28       27\n",
      "14  2021-01-02       21\n",
      "15  2021-01-08       26\n",
      "16  2021-01-09       27\n",
      "17  2021-01-15       32\n",
      "18  2021-01-22       17\n",
      "19  2021-01-29       37\n",
      "20  2021-02-05       23\n",
      "21  2021-02-12       49\n",
      "22  2021-02-13       31\n",
      "23  2021-02-19       31\n",
      "24  2021-02-26       34\n"
     ]
    }
   ],
   "source": [
    "# Each date time represents different blocks\n",
    "print(df)"
   ]
  },
  {
   "cell_type": "markdown",
   "id": "wooden-threat",
   "metadata": {},
   "source": [
    "The 'describe' function allows you to obtain the basic numerical information about your data."
   ]
  },
  {
   "cell_type": "code",
   "execution_count": 4,
   "id": "sustained-thriller",
   "metadata": {},
   "outputs": [
    {
     "data": {
      "text/html": [
       "<div>\n",
       "<style scoped>\n",
       "    .dataframe tbody tr th:only-of-type {\n",
       "        vertical-align: middle;\n",
       "    }\n",
       "\n",
       "    .dataframe tbody tr th {\n",
       "        vertical-align: top;\n",
       "    }\n",
       "\n",
       "    .dataframe thead th {\n",
       "        text-align: right;\n",
       "    }\n",
       "</style>\n",
       "<table border=\"1\" class=\"dataframe\">\n",
       "  <thead>\n",
       "    <tr style=\"text-align: right;\">\n",
       "      <th></th>\n",
       "      <th>MILEAGE</th>\n",
       "    </tr>\n",
       "  </thead>\n",
       "  <tbody>\n",
       "    <tr>\n",
       "      <th>count</th>\n",
       "      <td>25.000000</td>\n",
       "    </tr>\n",
       "    <tr>\n",
       "      <th>mean</th>\n",
       "      <td>28.240000</td>\n",
       "    </tr>\n",
       "    <tr>\n",
       "      <th>std</th>\n",
       "      <td>9.207244</td>\n",
       "    </tr>\n",
       "    <tr>\n",
       "      <th>min</th>\n",
       "      <td>15.000000</td>\n",
       "    </tr>\n",
       "    <tr>\n",
       "      <th>25%</th>\n",
       "      <td>21.000000</td>\n",
       "    </tr>\n",
       "    <tr>\n",
       "      <th>50%</th>\n",
       "      <td>26.000000</td>\n",
       "    </tr>\n",
       "    <tr>\n",
       "      <th>75%</th>\n",
       "      <td>32.000000</td>\n",
       "    </tr>\n",
       "    <tr>\n",
       "      <th>max</th>\n",
       "      <td>52.000000</td>\n",
       "    </tr>\n",
       "  </tbody>\n",
       "</table>\n",
       "</div>"
      ],
      "text/plain": [
       "         MILEAGE\n",
       "count  25.000000\n",
       "mean   28.240000\n",
       "std     9.207244\n",
       "min    15.000000\n",
       "25%    21.000000\n",
       "50%    26.000000\n",
       "75%    32.000000\n",
       "max    52.000000"
      ]
     },
     "execution_count": 4,
     "metadata": {},
     "output_type": "execute_result"
    }
   ],
   "source": [
    "df.describe()"
   ]
  },
  {
   "cell_type": "markdown",
   "id": "automated-louisiana",
   "metadata": {},
   "source": [
    "The following script generates the mileage analysis (scatter plot). Data gets updated occasionally."
   ]
  },
  {
   "cell_type": "code",
   "execution_count": 5,
   "id": "controlling-miller",
   "metadata": {},
   "outputs": [
    {
     "data": {
      "image/png": "[encoded data removed]",
      "text/plain": [
       "<Figure size 720x720 with 1 Axes>"
      ]
     },
     "metadata": {
      "needs_background": "light"
     },
     "output_type": "display_data"
    }
   ],
   "source": [
    "fig, ax = plt.subplots()\n",
    "block_date = data['DATE']\n",
    "mileage = data['MILEAGE']\n",
    "\n",
    "plt.scatter(block_date, mileage, color = 'green', edgecolor = 'black', linewidth = 1, marker = 'o')\n",
    "plt.title('MILEAGE ANALYSIS (NOV 2020 - FEB 2021)')\n",
    "plt.xlabel(\"DATE\", labelpad = 15)\n",
    "plt.gcf().autofmt_xdate(rotation = 70)\n",
    "plt.ylabel(\"MILES (PER BLOCK)\", labelpad = 15)\n",
    "plt.gcf().set_size_inches((10, 10))\n",
    "plt.show()"
   ]
  },
  {
   "cell_type": "markdown",
   "id": "running-emphasis",
   "metadata": {},
   "source": [
    "## 2. Simple Linear Regression (Time Data)"
   ]
  },
  {
   "cell_type": "markdown",
   "id": "brief-auditor",
   "metadata": {},
   "source": [
    "Once the mileage csv is placed on the correct folder, you may use pandas to read the file and create dataframe. A common practice is to print the data from your csv to make sure everything is loaded correctly. In this case we are converting dates (which are strings) into datetime (data type). We use 'dtypes' to confirm the appropriate data types for eaach column."
   ]
  },
  {
   "cell_type": "code",
   "execution_count": 6,
   "id": "built-beads",
   "metadata": {},
   "outputs": [
    {
     "data": {
      "text/plain": [
       "MILEAGE             int64\n",
       "DATE       datetime64[ns]\n",
       "dtype: object"
      ]
     },
     "execution_count": 6,
     "metadata": {},
     "output_type": "execute_result"
    }
   ],
   "source": [
    "data_v2 = pd.read_csv(\"Data/JETTA_VW_CAR_MILEAGE.csv\")\n",
    "data_v2['DATE'] = pd.to_datetime(data_v2['DATE'], infer_datetime_format = True)\n",
    "block_date = data_v2['DATE']\n",
    "mileage = data['MILEAGE']\n",
    "\n",
    "df_v2 = pd.DataFrame(data_v2, columns= ['MILEAGE','DATE'])\n",
    "df_v2.dtypes"
   ]
  },
  {
   "cell_type": "markdown",
   "id": "immediate-flight",
   "metadata": {},
   "source": [
    "A common practice is to print the data from your csv to make sure everything is loaded correctly."
   ]
  },
  {
   "cell_type": "code",
   "execution_count": 7,
   "id": "ranging-drama",
   "metadata": {},
   "outputs": [
    {
     "name": "stdout",
     "output_type": "stream",
     "text": [
      "    MILEAGE       DATE\n",
      "0        31 2020-11-02\n",
      "1        24 2020-11-03\n",
      "2        26 2020-11-04\n",
      "3        21 2020-11-05\n",
      "4        40 2020-11-06\n",
      "5        23 2020-11-09\n",
      "6        23 2020-11-10\n",
      "7        21 2020-11-14\n",
      "8        15 2020-11-17\n",
      "9        20 2020-11-19\n",
      "10       35 2020-11-23\n",
      "11       52 2020-12-04\n",
      "12       20 2020-12-18\n",
      "13       27 2020-12-28\n",
      "14       21 2021-01-02\n",
      "15       26 2021-01-08\n",
      "16       27 2021-01-09\n",
      "17       32 2021-01-15\n",
      "18       17 2021-01-22\n",
      "19       37 2021-01-29\n",
      "20       23 2021-02-05\n",
      "21       49 2021-02-12\n",
      "22       31 2021-02-13\n",
      "23       31 2021-02-19\n",
      "24       34 2021-02-26\n"
     ]
    }
   ],
   "source": [
    "print(df_v2)"
   ]
  },
  {
   "cell_type": "markdown",
   "id": "impaired-religious",
   "metadata": {},
   "source": [
    "Seaborn library doesn't function efficiently with dates, therefore we need to create ordinal data that is equivalent to our original dates. A common practice is to print the data from your csv to make sure everything is loaded correctly."
   ]
  },
  {
   "cell_type": "code",
   "execution_count": 8,
   "id": "existing-chair",
   "metadata": {},
   "outputs": [],
   "source": [
    "df_v2['DATE_ORDINAL'] = pd.to_datetime(df_v2['DATE']).apply(lambda date: date.toordinal())"
   ]
  },
  {
   "cell_type": "code",
   "execution_count": 9,
   "id": "tired-montana",
   "metadata": {},
   "outputs": [
    {
     "name": "stdout",
     "output_type": "stream",
     "text": [
      "    MILEAGE       DATE  DATE_ORDINAL\n",
      "0        31 2020-11-02        737731\n",
      "1        24 2020-11-03        737732\n",
      "2        26 2020-11-04        737733\n",
      "3        21 2020-11-05        737734\n",
      "4        40 2020-11-06        737735\n",
      "5        23 2020-11-09        737738\n",
      "6        23 2020-11-10        737739\n",
      "7        21 2020-11-14        737743\n",
      "8        15 2020-11-17        737746\n",
      "9        20 2020-11-19        737748\n",
      "10       35 2020-11-23        737752\n",
      "11       52 2020-12-04        737763\n",
      "12       20 2020-12-18        737777\n",
      "13       27 2020-12-28        737787\n",
      "14       21 2021-01-02        737792\n",
      "15       26 2021-01-08        737798\n",
      "16       27 2021-01-09        737799\n",
      "17       32 2021-01-15        737805\n",
      "18       17 2021-01-22        737812\n",
      "19       37 2021-01-29        737819\n",
      "20       23 2021-02-05        737826\n",
      "21       49 2021-02-12        737833\n",
      "22       31 2021-02-13        737834\n",
      "23       31 2021-02-19        737840\n",
      "24       34 2021-02-26        737847\n"
     ]
    }
   ],
   "source": [
    "print(df_v2)"
   ]
  },
  {
   "cell_type": "markdown",
   "id": "substantial-chocolate",
   "metadata": {},
   "source": [
    "Once ordinal data is ready, we plot our simple linear regression."
   ]
  },
  {
   "cell_type": "code",
   "execution_count": 10,
   "id": "authorized-significance",
   "metadata": {},
   "outputs": [
    {
     "name": "stderr",
     "output_type": "stream",
     "text": [
      "/Library/Frameworks/Python.framework/Versions/3.7/lib/python3.7/site-packages/ipykernel_launcher.py:9: UserWarning: FixedFormatter should only be used together with FixedLocator\n",
      "  if __name__ == '__main__':\n"
     ]
    },
    {
     "data": {
      "image/png": "[encoded data removed]",
      "text/plain": [
       "<Figure size 720x720 with 1 Axes>"
      ]
     },
     "metadata": {
      "needs_background": "light"
     },
     "output_type": "display_data"
    }
   ],
   "source": [
    "ax = sns.regplot(data=df_v2, x='DATE_ORDINAL', y='MILEAGE',)\n",
    "\n",
    "plt.title('MILEAGE LINEAR REGRESSION (NOV 2020 - FEB 2021)')\n",
    "plt.xlabel(\"DATE\", labelpad = 15)\n",
    "plt.ylabel(\"MILEAGE (PER ROUTE)\", labelpad = 15)\n",
    "plt.gcf().autofmt_xdate(rotation = 70)\n",
    "\n",
    "ord_to_date = ['2020-11-11','2020-11-11','2020-12-01','2020-12-21','2021-01-10','2021-01-30','2021-02-19']\n",
    "pl.gca().set_xticklabels(ord_to_date)\n",
    "plt.gcf().set_size_inches((10, 10))\n",
    "plt.show()"
   ]
  },
  {
   "cell_type": "markdown",
   "id": "demanding-columbus",
   "metadata": {},
   "source": [
    "## 3. Simple Linear Regression (Miles vs. Package No.)"
   ]
  },
  {
   "cell_type": "markdown",
   "id": "national-plane",
   "metadata": {},
   "source": [
    "Once the shift duration analysis csv is placed on the correct folder, you may use pandas to read the file and create dataframe. A common practice is to print the data from your csv to make sure everything is loaded correctly. In this case we are converting dates (which are strings) into datetime (data type). We use 'dtypes' to confirm the appropriate data types for each column."
   ]
  },
  {
   "cell_type": "code",
   "execution_count": 11,
   "id": "flying-airport",
   "metadata": {},
   "outputs": [
    {
     "data": {
      "text/plain": [
       "DATE             datetime64[ns]\n",
       "ROUTE_MILEAGE             int64\n",
       "TOTAL_PKGS                int64\n",
       "dtype: object"
      ]
     },
     "execution_count": 11,
     "metadata": {},
     "output_type": "execute_result"
    }
   ],
   "source": [
    "data_v3 = pd.read_csv(\"Data/MILES_VS_PACKAGES_ANALYSIS.csv\")\n",
    "data_v3['DATE'] = pd.to_datetime(data_v3['DATE'], infer_datetime_format = True)\n",
    "\n",
    "df_v3 = pd.DataFrame(data_v3, columns= ['DATE','ROUTE_MILEAGE','TOTAL_PKGS'])\n",
    "df_v3.dtypes"
   ]
  },
  {
   "cell_type": "markdown",
   "id": "absent-installation",
   "metadata": {},
   "source": [
    "A common practice is to print the data from your csv to make sure everything is loaded correctly."
   ]
  },
  {
   "cell_type": "code",
   "execution_count": 12,
   "id": "incorporated-productivity",
   "metadata": {},
   "outputs": [
    {
     "name": "stdout",
     "output_type": "stream",
     "text": [
      "        DATE  ROUTE_MILEAGE  TOTAL_PKGS\n",
      "0 2021-01-02             21          54\n",
      "1 2021-01-08             26          38\n",
      "2 2021-01-15             32          33\n",
      "3 2021-01-22             17          40\n",
      "4 2021-01-29             37          30\n",
      "5 2021-02-05             23          39\n",
      "6 2021-02-12             49          31\n",
      "7 2021-02-13             31          46\n",
      "8 2021-02-19             31          26\n",
      "9 2021-02-26             34          28\n"
     ]
    }
   ],
   "source": [
    "print(df_v3)"
   ]
  },
  {
   "cell_type": "markdown",
   "id": "nominated-brand",
   "metadata": {},
   "source": [
    "The following plot represents the mileage vs. total package number analysis."
   ]
  },
  {
   "cell_type": "code",
   "execution_count": 13,
   "id": "animal-teens",
   "metadata": {},
   "outputs": [
    {
     "data": {
      "image/png": "[encoded data removed]",
      "text/plain": [
       "<Figure size 720x720 with 1 Axes>"
      ]
     },
     "metadata": {
      "needs_background": "light"
     },
     "output_type": "display_data"
    }
   ],
   "source": [
    "plt.scatter(df_v3['ROUTE_MILEAGE'], df_v3['TOTAL_PKGS'], color='green')\n",
    "plt.title('MILEAGE vs. TOTAL PACKAGE NO.')\n",
    "plt.xlabel('VEHICLE MILEAGE', labelpad = 15)\n",
    "plt.ylabel('TOTAL PACKAGE NO. (PER ROUTE)', labelpad = 15)\n",
    "plt.grid(True)\n",
    "plt.gcf().set_size_inches((10, 10))\n",
    "plt.show()"
   ]
  },
  {
   "cell_type": "markdown",
   "id": "golden-uncertainty",
   "metadata": {},
   "source": [
    "The following creates a box plot with mileage and package number data. "
   ]
  },
  {
   "cell_type": "code",
   "execution_count": 14,
   "id": "functioning-twelve",
   "metadata": {},
   "outputs": [
    {
     "data": {
      "image/png": "[encoded data removed]",
      "text/plain": [
       "<Figure size 720x720 with 1 Axes>"
      ]
     },
     "metadata": {
      "needs_background": "light"
     },
     "output_type": "display_data"
    }
   ],
   "source": [
    "df_v4 = pd.DataFrame(data_v3, columns= ['ROUTE_MILEAGE','TOTAL_PKGS'])\n",
    "df_v4.plot(kind = 'box')\n",
    "plt.title('MILEAGE vs. TOTAL PACKAGE NO.')\n",
    "plt.gcf().set_size_inches((10, 10))\n",
    "plt.show()"
   ]
  },
  {
   "cell_type": "markdown",
   "id": "informational-monday",
   "metadata": {},
   "source": [
    "Correlation coefficients."
   ]
  },
  {
   "cell_type": "code",
   "execution_count": 15,
   "id": "attended-emperor",
   "metadata": {},
   "outputs": [
    {
     "data": {
      "text/html": [
       "<div>\n",
       "<style scoped>\n",
       "    .dataframe tbody tr th:only-of-type {\n",
       "        vertical-align: middle;\n",
       "    }\n",
       "\n",
       "    .dataframe tbody tr th {\n",
       "        vertical-align: top;\n",
       "    }\n",
       "\n",
       "    .dataframe thead th {\n",
       "        text-align: right;\n",
       "    }\n",
       "</style>\n",
       "<table border=\"1\" class=\"dataframe\">\n",
       "  <thead>\n",
       "    <tr style=\"text-align: right;\">\n",
       "      <th></th>\n",
       "      <th>ROUTE_MILEAGE</th>\n",
       "      <th>TOTAL_PKGS</th>\n",
       "    </tr>\n",
       "  </thead>\n",
       "  <tbody>\n",
       "    <tr>\n",
       "      <th>ROUTE_MILEAGE</th>\n",
       "      <td>1.000000</td>\n",
       "      <td>-0.585299</td>\n",
       "    </tr>\n",
       "    <tr>\n",
       "      <th>TOTAL_PKGS</th>\n",
       "      <td>-0.585299</td>\n",
       "      <td>1.000000</td>\n",
       "    </tr>\n",
       "  </tbody>\n",
       "</table>\n",
       "</div>"
      ],
      "text/plain": [
       "               ROUTE_MILEAGE  TOTAL_PKGS\n",
       "ROUTE_MILEAGE       1.000000   -0.585299\n",
       "TOTAL_PKGS         -0.585299    1.000000"
      ]
     },
     "execution_count": 15,
     "metadata": {},
     "output_type": "execute_result"
    }
   ],
   "source": [
    "df_v4.corr()"
   ]
  },
  {
   "cell_type": "markdown",
   "id": "broad-league",
   "metadata": {},
   "source": [
    "Change columns to dataframe variables."
   ]
  },
  {
   "cell_type": "code",
   "execution_count": 16,
   "id": "precious-watson",
   "metadata": {},
   "outputs": [],
   "source": [
    "route_miles = pd.DataFrame(df_v4['ROUTE_MILEAGE'])\n",
    "tot_pkg_no = pd.DataFrame(df_v4['TOTAL_PKGS'])"
   ]
  },
  {
   "cell_type": "code",
   "execution_count": 17,
   "id": "charged-gnome",
   "metadata": {},
   "outputs": [],
   "source": [
    "#route_miles\n",
    "#tot_pkg_no"
   ]
  },
  {
   "cell_type": "markdown",
   "id": "rising-hands",
   "metadata": {},
   "source": [
    "A common practice is to print the data to make sure everything is compiled correctly."
   ]
  },
  {
   "cell_type": "code",
   "execution_count": 18,
   "id": "twenty-processing",
   "metadata": {},
   "outputs": [
    {
     "name": "stdout",
     "output_type": "stream",
     "text": [
      "   ROUTE_MILEAGE\n",
      "0             21\n",
      "1             26\n",
      "2             32\n",
      "3             17\n",
      "4             37\n",
      "5             23\n",
      "6             49\n",
      "7             31\n",
      "8             31\n",
      "9             34\n",
      "   TOTAL_PKGS\n",
      "0          54\n",
      "1          38\n",
      "2          33\n",
      "3          40\n",
      "4          30\n",
      "5          39\n",
      "6          31\n",
      "7          46\n",
      "8          26\n",
      "9          28\n"
     ]
    }
   ],
   "source": [
    "print(route_miles)\n",
    "print(tot_pkg_no)"
   ]
  },
  {
   "cell_type": "markdown",
   "id": "complete-queue",
   "metadata": {},
   "source": [
    "We build the Linear Regression Model (that's why we import sklearn)."
   ]
  },
  {
   "cell_type": "code",
   "execution_count": 19,
   "id": "raised-affect",
   "metadata": {},
   "outputs": [],
   "source": [
    "lm = linear_model.LinearRegression()\n",
    "model = lm.fit(route_miles, tot_pkg_no)"
   ]
  },
  {
   "cell_type": "markdown",
   "id": "metric-salon",
   "metadata": {},
   "source": [
    "We need to check the coefficient, intercept and score to evaluate the model."
   ]
  },
  {
   "cell_type": "code",
   "execution_count": 20,
   "id": "prerequisite-kinase",
   "metadata": {},
   "outputs": [
    {
     "data": {
      "text/plain": [
       "array([[-0.56031597]])"
      ]
     },
     "execution_count": 20,
     "metadata": {},
     "output_type": "execute_result"
    }
   ],
   "source": [
    "model.coef_"
   ]
  },
  {
   "cell_type": "code",
   "execution_count": 21,
   "id": "renewable-trauma",
   "metadata": {},
   "outputs": [
    {
     "data": {
      "text/plain": [
       "array([53.36551078])"
      ]
     },
     "execution_count": 21,
     "metadata": {},
     "output_type": "execute_result"
    }
   ],
   "source": [
    "model.intercept_"
   ]
  },
  {
   "cell_type": "code",
   "execution_count": 22,
   "id": "signed-california",
   "metadata": {},
   "outputs": [
    {
     "data": {
      "text/plain": [
       "0.3425744843967192"
      ]
     },
     "execution_count": 22,
     "metadata": {},
     "output_type": "execute_result"
    }
   ],
   "source": [
    "model.score(route_miles, tot_pkg_no)"
   ]
  },
  {
   "cell_type": "markdown",
   "id": "willing-surname",
   "metadata": {},
   "source": [
    "As we predict new values for tot. package number per shift, we select random numbers that represent miles (within array)."
   ]
  },
  {
   "cell_type": "code",
   "execution_count": 23,
   "id": "convenient-moisture",
   "metadata": {},
   "outputs": [
    {
     "data": {
      "text/plain": [
       "array([[36.5560316 ],\n",
       "       [33.75445173],\n",
       "       [30.95287187]])"
      ]
     },
     "execution_count": 23,
     "metadata": {},
     "output_type": "execute_result"
    }
   ],
   "source": [
    "New_Mileage = np.array([30,35,40])\n",
    "New_Mileage = New_Mileage.reshape(-1,1)\n",
    "Pkg_No_Predict = model.predict(New_Mileage)\n",
    "Pkg_No_Predict"
   ]
  },
  {
   "cell_type": "markdown",
   "id": "existing-negative",
   "metadata": {},
   "source": [
    "We are testing the random array."
   ]
  },
  {
   "cell_type": "code",
   "execution_count": 24,
   "id": "acquired-astronomy",
   "metadata": {},
   "outputs": [
    {
     "data": {
      "text/html": [
       "<div>\n",
       "<style scoped>\n",
       "    .dataframe tbody tr th:only-of-type {\n",
       "        vertical-align: middle;\n",
       "    }\n",
       "\n",
       "    .dataframe tbody tr th {\n",
       "        vertical-align: top;\n",
       "    }\n",
       "\n",
       "    .dataframe thead tr th {\n",
       "        text-align: left;\n",
       "    }\n",
       "</style>\n",
       "<table border=\"1\" class=\"dataframe\">\n",
       "  <thead>\n",
       "    <tr>\n",
       "      <th></th>\n",
       "      <th>New_Mileage</th>\n",
       "      <th>Pkg_No_Predict</th>\n",
       "    </tr>\n",
       "    <tr>\n",
       "      <th></th>\n",
       "      <th>0</th>\n",
       "      <th>0</th>\n",
       "    </tr>\n",
       "  </thead>\n",
       "  <tbody>\n",
       "    <tr>\n",
       "      <th>0</th>\n",
       "      <td>30</td>\n",
       "      <td>36.556032</td>\n",
       "    </tr>\n",
       "    <tr>\n",
       "      <th>1</th>\n",
       "      <td>35</td>\n",
       "      <td>33.754452</td>\n",
       "    </tr>\n",
       "    <tr>\n",
       "      <th>2</th>\n",
       "      <td>38</td>\n",
       "      <td>32.073504</td>\n",
       "    </tr>\n",
       "  </tbody>\n",
       "</table>\n",
       "</div>"
      ],
      "text/plain": [
       "  New_Mileage Pkg_No_Predict\n",
       "            0              0\n",
       "0          30      36.556032\n",
       "1          35      33.754452\n",
       "2          38      32.073504"
      ]
     },
     "execution_count": 24,
     "metadata": {},
     "output_type": "execute_result"
    }
   ],
   "source": [
    "X = ([30,35,38])\n",
    "X = pd.DataFrame(X)\n",
    "Y = model.predict(X)\n",
    "Y = pd.DataFrame(Y)\n",
    "df_v5 = pd.concat([X,Y], axis=1, keys=['New_Mileage','Pkg_No_Predict'])\n",
    "df_v5"
   ]
  },
  {
   "cell_type": "markdown",
   "id": "fossil-discount",
   "metadata": {},
   "source": [
    "We now visualize the simple linear regression model. The red line is the regression itself. The black data points represent our random array (predictive values)"
   ]
  },
  {
   "cell_type": "code",
   "execution_count": 25,
   "id": "expressed-exposure",
   "metadata": {},
   "outputs": [
    {
     "data": {
      "image/png": "[encoded data removed]",
      "text/plain": [
       "<Figure size 720x720 with 1 Axes>"
      ]
     },
     "metadata": {
      "needs_background": "light"
     },
     "output_type": "display_data"
    }
   ],
   "source": [
    "# Visualize The Result\n",
    "data_v3.plot(kind='scatter', x='ROUTE_MILEAGE', y='TOTAL_PKGS')\n",
    "\n",
    "# Plotting The Regression \n",
    "plt.plot(route_miles, model.predict(route_miles), color='red', linewidth=2)\n",
    "\n",
    "# Plotting The Predict Value\n",
    "plt.scatter(New_Mileage, Pkg_No_Predict, color='black')\n",
    "plt.title('SIMPLE LINEAR REGRESSION (MILEAGE vs. TOTAL PACKAGES)')\n",
    "plt.xlabel(\"ROUTE MILEAGE\", labelpad = 15)\n",
    "plt.ylabel(\"TOTAL PACKAGES (PER ROUTE)\", labelpad = 15)\n",
    "plt.gcf().set_size_inches((10, 10))\n",
    "plt.show()"
   ]
  },
  {
   "cell_type": "markdown",
   "id": "inappropriate-wayne",
   "metadata": {},
   "source": [
    "## 4. Conclusion"
   ]
  },
  {
   "cell_type": "code",
   "execution_count": null,
   "id": "informal-horizon",
   "metadata": {},
   "outputs": [],
   "source": [
    "# The 1st simple linear regression (dates vs. miles) model predicts mileage will steadily increment in each shift, \n",
    "# however the dataset is quite small yet, therefore this behavior might change as more data get compiled."
   ]
  },
  {
   "cell_type": "code",
   "execution_count": null,
   "id": "incomplete-function",
   "metadata": {},
   "outputs": [],
   "source": [
    "# The 2nd simple linear regression (miles vs. total packages x shift) predicts that the random package number will \n",
    "# decrease as the route covers more distance, which makes sense because the app provides less packages to deliver \n",
    "# in longer routes."
   ]
  }
 ],
 "metadata": {
  "kernelspec": {
   "display_name": "Python 3",
   "language": "python",
   "name": "python3"
  },
  "language_info": {
   "codemirror_mode": {
    "name": "ipython",
    "version": 3
   },
   "file_extension": ".py",
   "mimetype": "text/x-python",
   "name": "python",
   "nbconvert_exporter": "python",
   "pygments_lexer": "ipython3",
   "version": "3.7.0"
  }
 },
 "nbformat": 4,
 "nbformat_minor": 5
}
