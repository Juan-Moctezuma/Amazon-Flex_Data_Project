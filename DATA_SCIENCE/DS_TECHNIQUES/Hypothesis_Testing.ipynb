{
 "cells": [
  {
   "cell_type": "markdown",
   "id": "serial-machine",
   "metadata": {},
   "source": [
    "# Amazon-Flex Data Science Techniques (Part IV) - Juan Moctezuma\n",
    "\n",
    "The following script generates two Statistical Hypothesis Tests. The data comes from the NEIGHBORHOOD_ANALYSIS.csv which contains 2021 data from the RDF (Raw Data File) CSV file. \n",
    "\n",
    "The first test checks the probability that most deliveries per blocks consist of 2 different neighborhoods on average. These neighborhoods may or may not belong to the same zip code. Please note that as an Amazon contractor, you are randomly assigned deliveries in a set of addresses that may or may not belong to a single neighborhood. The second test is about observing the chances of getting DOWNTOWN AREA (San Diego, CA) assigned into the route.      \n",
    "\n",
    "No historical data (incomplete information compiled on year 2020; which exists prior to the creation of this project) is included for this model.  "
   ]
  },
  {
   "cell_type": "markdown",
   "id": "assured-watts",
   "metadata": {},
   "source": [
    "..."
   ]
  },
  {
   "cell_type": "markdown",
   "id": "industrial-touch",
   "metadata": {},
   "source": [
    "## 1. Before performing the Hypothesis Tests"
   ]
  },
  {
   "cell_type": "markdown",
   "id": "basic-microwave",
   "metadata": {},
   "source": [
    "The first step is to install the required libraries."
   ]
  },
  {
   "cell_type": "code",
   "execution_count": null,
   "id": "nuclear-brighton",
   "metadata": {},
   "outputs": [],
   "source": [
    "#!pip install pandas"
   ]
  },
  {
   "cell_type": "code",
   "execution_count": null,
   "id": "sought-hierarchy",
   "metadata": {},
   "outputs": [],
   "source": [
    "#!pip install numpy"
   ]
  },
  {
   "cell_type": "code",
   "execution_count": null,
   "id": "weird-confirmation",
   "metadata": {},
   "outputs": [],
   "source": [
    "#!pip install matplotlib"
   ]
  },
  {
   "cell_type": "code",
   "execution_count": null,
   "id": "departmental-nursery",
   "metadata": {},
   "outputs": [],
   "source": [
    "#!pip install scipy"
   ]
  },
  {
   "cell_type": "markdown",
   "id": "secondary-surfing",
   "metadata": {},
   "source": [
    "Then import the libraries that you installed."
   ]
  },
  {
   "cell_type": "code",
   "execution_count": 1,
   "id": "executed-bailey",
   "metadata": {},
   "outputs": [],
   "source": [
    "import numpy as np\n",
    "import pandas as pd\n",
    "import seaborn as sns\n",
    "import warnings\n",
    "from pylab import rcParams\n",
    "from scipy import stats\n",
    "from matplotlib import pyplot as plt\n",
    "%matplotlib inline"
   ]
  },
  {
   "cell_type": "markdown",
   "id": "plastic-philippines",
   "metadata": {},
   "source": [
    "We need to get our data. Once the neighborhood data csv is placed on the correct folder, you may use pandas to read the file and create dataframe. A common practice is to print the data from your csv to make sure everything is loaded correctly."
   ]
  },
  {
   "cell_type": "code",
   "execution_count": 2,
   "id": "secondary-incentive",
   "metadata": {},
   "outputs": [
    {
     "data": {
      "text/plain": [
       "DATE                              datetime64[ns]\n",
       "NEIGHBORHOOD(S)                           object\n",
       "NEIGHBORHOOD_1                            object\n",
       "NEIGHBORHOOD_2                            object\n",
       "NEIGHBORHOOD_3                            object\n",
       "TOTAL_NBHD_COUNT                           int64\n",
       "NON-DWTN_COUNT                             int64\n",
       "NON-DWTN_EMPIRICAL_PROBABILITY           float64\n",
       "dtype: object"
      ]
     },
     "execution_count": 2,
     "metadata": {},
     "output_type": "execute_result"
    }
   ],
   "source": [
    "data = pd.read_csv(\"Data/NEIGHBORHOOD_ANALYSIS.csv\")\n",
    "data['DATE'] = pd.to_datetime(data['DATE'], infer_datetime_format = True)\n",
    "\n",
    "df = pd.DataFrame(data, columns= ['DATE','NEIGHBORHOOD(S)','NEIGHBORHOOD_1','NEIGHBORHOOD_2','NEIGHBORHOOD_3','TOTAL_NBHD_COUNT','NON-DWTN_COUNT','NON-DWTN_EMPIRICAL_PROBABILITY'])\n",
    "df.dtypes"
   ]
  },
  {
   "cell_type": "markdown",
   "id": "modular-scientist",
   "metadata": {},
   "source": [
    "A common practice is to display the data from your csv to make sure everything is loaded correctly. Probabilities on the 'NON-DWTN_EMPIRICAL_PROBABILITY' column are measured as decimals and 'DWTN' stands for downtown."
   ]
  },
  {
   "cell_type": "code",
   "execution_count": 3,
   "id": "automotive-portugal",
   "metadata": {},
   "outputs": [
    {
     "data": {
      "text/html": [
       "<div>\n",
       "<style scoped>\n",
       "    .dataframe tbody tr th:only-of-type {\n",
       "        vertical-align: middle;\n",
       "    }\n",
       "\n",
       "    .dataframe tbody tr th {\n",
       "        vertical-align: top;\n",
       "    }\n",
       "\n",
       "    .dataframe thead th {\n",
       "        text-align: right;\n",
       "    }\n",
       "</style>\n",
       "<table border=\"1\" class=\"dataframe\">\n",
       "  <thead>\n",
       "    <tr style=\"text-align: right;\">\n",
       "      <th></th>\n",
       "      <th>DATE</th>\n",
       "      <th>NEIGHBORHOOD(S)</th>\n",
       "      <th>NEIGHBORHOOD_1</th>\n",
       "      <th>NEIGHBORHOOD_2</th>\n",
       "      <th>NEIGHBORHOOD_3</th>\n",
       "      <th>TOTAL_NBHD_COUNT</th>\n",
       "      <th>NON-DWTN_COUNT</th>\n",
       "      <th>NON-DWTN_EMPIRICAL_PROBABILITY</th>\n",
       "    </tr>\n",
       "  </thead>\n",
       "  <tbody>\n",
       "    <tr>\n",
       "      <th>0</th>\n",
       "      <td>2021-01-02</td>\n",
       "      <td>BONITA / NATIONAL CITY</td>\n",
       "      <td>BONITA</td>\n",
       "      <td>NATIONAL CITY</td>\n",
       "      <td>NaN</td>\n",
       "      <td>2</td>\n",
       "      <td>2</td>\n",
       "      <td>1.0</td>\n",
       "    </tr>\n",
       "    <tr>\n",
       "      <th>1</th>\n",
       "      <td>2021-01-08</td>\n",
       "      <td>MISSION BEACH / OCEAN BEACH</td>\n",
       "      <td>MISSION BEACH</td>\n",
       "      <td>OCEAN BEACH</td>\n",
       "      <td>NaN</td>\n",
       "      <td>2</td>\n",
       "      <td>2</td>\n",
       "      <td>1.0</td>\n",
       "    </tr>\n",
       "    <tr>\n",
       "      <th>2</th>\n",
       "      <td>2021-01-15</td>\n",
       "      <td>DOWNTOWN AREA / LOGAN</td>\n",
       "      <td>DOWNTOWN AREA</td>\n",
       "      <td>LOGAN</td>\n",
       "      <td>NaN</td>\n",
       "      <td>2</td>\n",
       "      <td>1</td>\n",
       "      <td>0.5</td>\n",
       "    </tr>\n",
       "    <tr>\n",
       "      <th>3</th>\n",
       "      <td>2021-01-22</td>\n",
       "      <td>HILLCREST / MONTECITO POINT</td>\n",
       "      <td>HILLCREST</td>\n",
       "      <td>MONTECITO POINT</td>\n",
       "      <td>NaN</td>\n",
       "      <td>2</td>\n",
       "      <td>2</td>\n",
       "      <td>1.0</td>\n",
       "    </tr>\n",
       "    <tr>\n",
       "      <th>4</th>\n",
       "      <td>2021-01-29</td>\n",
       "      <td>EL CAJON /  SPRING VALLEY / LA MESA</td>\n",
       "      <td>EL CAJON</td>\n",
       "      <td>SPRING VALLEY</td>\n",
       "      <td>LA MESA</td>\n",
       "      <td>3</td>\n",
       "      <td>3</td>\n",
       "      <td>1.0</td>\n",
       "    </tr>\n",
       "    <tr>\n",
       "      <th>5</th>\n",
       "      <td>2021-02-05</td>\n",
       "      <td>NORTH PARK</td>\n",
       "      <td>NORTH PARK</td>\n",
       "      <td>NaN</td>\n",
       "      <td>NaN</td>\n",
       "      <td>1</td>\n",
       "      <td>1</td>\n",
       "      <td>1.0</td>\n",
       "    </tr>\n",
       "    <tr>\n",
       "      <th>6</th>\n",
       "      <td>2021-02-12</td>\n",
       "      <td>SAN YSIDRO / OTAY MESA / OCEAN VIEW</td>\n",
       "      <td>SAN YSIDRO</td>\n",
       "      <td>OTAY MESA</td>\n",
       "      <td>OCEAN VIEW</td>\n",
       "      <td>3</td>\n",
       "      <td>3</td>\n",
       "      <td>1.0</td>\n",
       "    </tr>\n",
       "    <tr>\n",
       "      <th>7</th>\n",
       "      <td>2021-02-13</td>\n",
       "      <td>PALM CITY / OTAY / OCEAN VIEW</td>\n",
       "      <td>PALM CITY</td>\n",
       "      <td>OTAY</td>\n",
       "      <td>OCEAN VIEW</td>\n",
       "      <td>3</td>\n",
       "      <td>3</td>\n",
       "      <td>1.0</td>\n",
       "    </tr>\n",
       "    <tr>\n",
       "      <th>8</th>\n",
       "      <td>2021-02-19</td>\n",
       "      <td>EL CAJON</td>\n",
       "      <td>EL CAJON</td>\n",
       "      <td>NaN</td>\n",
       "      <td>NaN</td>\n",
       "      <td>1</td>\n",
       "      <td>1</td>\n",
       "      <td>1.0</td>\n",
       "    </tr>\n",
       "    <tr>\n",
       "      <th>9</th>\n",
       "      <td>2021-02-26</td>\n",
       "      <td>SAN YSIDRO / OTAY MESA / OCEAN VIEW</td>\n",
       "      <td>SAN YSIDRO</td>\n",
       "      <td>OTAY MESA</td>\n",
       "      <td>OCEAN VIEW</td>\n",
       "      <td>3</td>\n",
       "      <td>3</td>\n",
       "      <td>1.0</td>\n",
       "    </tr>\n",
       "    <tr>\n",
       "      <th>10</th>\n",
       "      <td>2021-03-05</td>\n",
       "      <td>EL CAJON</td>\n",
       "      <td>EL CAJON</td>\n",
       "      <td>NaN</td>\n",
       "      <td>NaN</td>\n",
       "      <td>1</td>\n",
       "      <td>1</td>\n",
       "      <td>1.0</td>\n",
       "    </tr>\n",
       "  </tbody>\n",
       "</table>\n",
       "</div>"
      ],
      "text/plain": [
       "         DATE                      NEIGHBORHOOD(S)  NEIGHBORHOOD_1  \\\n",
       "0  2021-01-02               BONITA / NATIONAL CITY         BONITA    \n",
       "1  2021-01-08          MISSION BEACH / OCEAN BEACH  MISSION BEACH    \n",
       "2  2021-01-15                DOWNTOWN AREA / LOGAN  DOWNTOWN AREA    \n",
       "3  2021-01-22          HILLCREST / MONTECITO POINT      HILLCREST    \n",
       "4  2021-01-29  EL CAJON /  SPRING VALLEY / LA MESA       EL CAJON    \n",
       "5  2021-02-05                           NORTH PARK      NORTH PARK   \n",
       "6  2021-02-12  SAN YSIDRO / OTAY MESA / OCEAN VIEW     SAN YSIDRO    \n",
       "7  2021-02-13        PALM CITY / OTAY / OCEAN VIEW      PALM CITY    \n",
       "8  2021-02-19                             EL CAJON        EL CAJON   \n",
       "9  2021-02-26  SAN YSIDRO / OTAY MESA / OCEAN VIEW     SAN YSIDRO    \n",
       "10 2021-03-05                             EL CAJON        EL CAJON   \n",
       "\n",
       "      NEIGHBORHOOD_2 NEIGHBORHOOD_3  TOTAL_NBHD_COUNT  NON-DWTN_COUNT  \\\n",
       "0      NATIONAL CITY            NaN                 2               2   \n",
       "1        OCEAN BEACH            NaN                 2               2   \n",
       "2              LOGAN            NaN                 2               1   \n",
       "3    MONTECITO POINT            NaN                 2               2   \n",
       "4     SPRING VALLEY         LA MESA                 3               3   \n",
       "5                NaN            NaN                 1               1   \n",
       "6         OTAY MESA      OCEAN VIEW                 3               3   \n",
       "7              OTAY      OCEAN VIEW                 3               3   \n",
       "8                NaN            NaN                 1               1   \n",
       "9         OTAY MESA      OCEAN VIEW                 3               3   \n",
       "10               NaN            NaN                 1               1   \n",
       "\n",
       "    NON-DWTN_EMPIRICAL_PROBABILITY  \n",
       "0                              1.0  \n",
       "1                              1.0  \n",
       "2                              0.5  \n",
       "3                              1.0  \n",
       "4                              1.0  \n",
       "5                              1.0  \n",
       "6                              1.0  \n",
       "7                              1.0  \n",
       "8                              1.0  \n",
       "9                              1.0  \n",
       "10                             1.0  "
      ]
     },
     "metadata": {},
     "output_type": "display_data"
    }
   ],
   "source": [
    "#print(df)\n",
    "pd.set_option('display.max_colwidth', None)\n",
    "pd.set_option('display.max_columns', None)\n",
    "display(df)"
   ]
  },
  {
   "cell_type": "markdown",
   "id": "rolled-whale",
   "metadata": {},
   "source": [
    "We use 'describe' to see the numerical data's basic statistics."
   ]
  },
  {
   "cell_type": "code",
   "execution_count": 4,
   "id": "possible-bloom",
   "metadata": {},
   "outputs": [
    {
     "data": {
      "text/html": [
       "<div>\n",
       "<style scoped>\n",
       "    .dataframe tbody tr th:only-of-type {\n",
       "        vertical-align: middle;\n",
       "    }\n",
       "\n",
       "    .dataframe tbody tr th {\n",
       "        vertical-align: top;\n",
       "    }\n",
       "\n",
       "    .dataframe thead th {\n",
       "        text-align: right;\n",
       "    }\n",
       "</style>\n",
       "<table border=\"1\" class=\"dataframe\">\n",
       "  <thead>\n",
       "    <tr style=\"text-align: right;\">\n",
       "      <th></th>\n",
       "      <th>TOTAL_NBHD_COUNT</th>\n",
       "      <th>NON-DWTN_COUNT</th>\n",
       "      <th>NON-DWTN_EMPIRICAL_PROBABILITY</th>\n",
       "    </tr>\n",
       "  </thead>\n",
       "  <tbody>\n",
       "    <tr>\n",
       "      <th>count</th>\n",
       "      <td>11.000000</td>\n",
       "      <td>11.000000</td>\n",
       "      <td>11.000000</td>\n",
       "    </tr>\n",
       "    <tr>\n",
       "      <th>mean</th>\n",
       "      <td>2.090909</td>\n",
       "      <td>2.000000</td>\n",
       "      <td>0.954545</td>\n",
       "    </tr>\n",
       "    <tr>\n",
       "      <th>std</th>\n",
       "      <td>0.831209</td>\n",
       "      <td>0.894427</td>\n",
       "      <td>0.150756</td>\n",
       "    </tr>\n",
       "    <tr>\n",
       "      <th>min</th>\n",
       "      <td>1.000000</td>\n",
       "      <td>1.000000</td>\n",
       "      <td>0.500000</td>\n",
       "    </tr>\n",
       "    <tr>\n",
       "      <th>25%</th>\n",
       "      <td>1.500000</td>\n",
       "      <td>1.000000</td>\n",
       "      <td>1.000000</td>\n",
       "    </tr>\n",
       "    <tr>\n",
       "      <th>50%</th>\n",
       "      <td>2.000000</td>\n",
       "      <td>2.000000</td>\n",
       "      <td>1.000000</td>\n",
       "    </tr>\n",
       "    <tr>\n",
       "      <th>75%</th>\n",
       "      <td>3.000000</td>\n",
       "      <td>3.000000</td>\n",
       "      <td>1.000000</td>\n",
       "    </tr>\n",
       "    <tr>\n",
       "      <th>max</th>\n",
       "      <td>3.000000</td>\n",
       "      <td>3.000000</td>\n",
       "      <td>1.000000</td>\n",
       "    </tr>\n",
       "  </tbody>\n",
       "</table>\n",
       "</div>"
      ],
      "text/plain": [
       "       TOTAL_NBHD_COUNT  NON-DWTN_COUNT  NON-DWTN_EMPIRICAL_PROBABILITY\n",
       "count         11.000000       11.000000                       11.000000\n",
       "mean           2.090909        2.000000                        0.954545\n",
       "std            0.831209        0.894427                        0.150756\n",
       "min            1.000000        1.000000                        0.500000\n",
       "25%            1.500000        1.000000                        1.000000\n",
       "50%            2.000000        2.000000                        1.000000\n",
       "75%            3.000000        3.000000                        1.000000\n",
       "max            3.000000        3.000000                        1.000000"
      ]
     },
     "execution_count": 4,
     "metadata": {},
     "output_type": "execute_result"
    }
   ],
   "source": [
    "df.describe()"
   ]
  },
  {
   "cell_type": "markdown",
   "id": "medical-parallel",
   "metadata": {},
   "source": [
    "We now define 2 functions."
   ]
  },
  {
   "cell_type": "code",
   "execution_count": 5,
   "id": "secure-injury",
   "metadata": {},
   "outputs": [],
   "source": [
    "# We define the plot_distribution function\n",
    "def plot_distribution(inp):\n",
    "    plt.figure()\n",
    "    ax = sns.distplot(inp)\n",
    "    plt.axvline(np.mean(inp), color=\"k\", linestyle=\"dashed\", linewidth=5)\n",
    "    _, max_ = plt.ylim()\n",
    "    plt.text(\n",
    "        inp.mean() + inp.mean() / 10,\n",
    "        max_ - max_ / 10,\n",
    "        \"Mean: {:.2f}\".format(inp.mean()),\n",
    "    )\n",
    "    return plt.figure"
   ]
  },
  {
   "cell_type": "code",
   "execution_count": 6,
   "id": "damaged-defeat",
   "metadata": {},
   "outputs": [],
   "source": [
    "# We define the function that conducts the 1-tailed test for one sample (Python has a built-in function for the 2-tailed test)\n",
    "def one_sample_one_tailed(sample_data, popmean, alpha=0.05, alternative='greater'):\n",
    "    t, p = stats.ttest_1samp(sample_data, popmean)\n",
    "    print ('T-Value: ',t)\n",
    "    print ('P-Value: ',p)\n",
    "    if alternative == 'greater' and (p/2 < alpha) and t > 0:\n",
    "        print ('Reject Null Hypothesis for greater-than test')\n",
    "    if alternative == 'less' and (p/2 < alpha) and t < 0:\n",
    "        print ('Reject Null Hypothesis for less-thane test')"
   ]
  },
  {
   "cell_type": "markdown",
   "id": "unexpected-vegetation",
   "metadata": {},
   "source": [
    "## 2. Statistical Hypothesis Testing for neighborhood count probabilities (PART I)"
   ]
  },
  {
   "cell_type": "markdown",
   "id": "muslim-loading",
   "metadata": {},
   "source": [
    "$H_{0}$ = The number of neighborhoods in one random delivery-route is 2."
   ]
  },
  {
   "cell_type": "markdown",
   "id": "patient-shower",
   "metadata": {},
   "source": [
    "$H_{a}$ = The number of neighborhoods in one random delivery-route is NOT 2."
   ]
  },
  {
   "cell_type": "markdown",
   "id": "focused-saturn",
   "metadata": {},
   "source": [
    "$\\mu$ = 2 (hypothesis mean in this test)."
   ]
  },
  {
   "cell_type": "markdown",
   "id": "otherwise-wrong",
   "metadata": {},
   "source": [
    "Therefore we now state the Null Hypothesis ($H_{0}$) \n",
    "and Alternate Hypothesis ($H_{a}$). This is a \n",
    "2-tailed hypothesis test."
   ]
  },
  {
   "cell_type": "markdown",
   "id": "metropolitan-revision",
   "metadata": {},
   "source": [
    "$H_{0}$ : $\\mu$ = 2"
   ]
  },
  {
   "cell_type": "markdown",
   "id": "frozen-harvey",
   "metadata": {},
   "source": [
    "$H_{a}$ : $\\mu$ $\\neq$ 2"
   ]
  },
  {
   "cell_type": "markdown",
   "id": "portuguese-peeing",
   "metadata": {},
   "source": [
    "NOTE: If P-Value is less than 5%, then the $H_{0}$ gets rejected, hence we accept $H_{a}$. As a rule of thumb, 5% is chosen because we have a confidence interval of 95%. Another way to test the null hypothesis or $H_{0}$, is throughout the T-Value (or statistic value from 'stats.ttest_1sampResult' value). If T-Value or $T$ > $T_{c}$ or T-Critical (from the T-Table) then we can reject $H_0$."
   ]
  },
  {
   "cell_type": "markdown",
   "id": "demonstrated-australia",
   "metadata": {},
   "source": [
    "..."
   ]
  },
  {
   "cell_type": "markdown",
   "id": "explicit-scanner",
   "metadata": {},
   "source": [
    "## One-Sample 2-Tailed T-Test (PART II)"
   ]
  },
  {
   "cell_type": "code",
   "execution_count": 7,
   "id": "quarterly-kennedy",
   "metadata": {},
   "outputs": [
    {
     "name": "stdout",
     "output_type": "stream",
     "text": [
      "[2, 2, 2, 2, 3, 1, 3, 3, 1, 3, 1]\n"
     ]
    }
   ],
   "source": [
    "# We set convert one column to an array\n",
    "# We compile data that gets get plotted (graph1)\n",
    "totalNeighborhood_count = np.array(data['TOTAL_NBHD_COUNT'])\n",
    "totalNeighborhood_count = list(totalNeighborhood_count)\n",
    "graph1 = np.array(data['TOTAL_NBHD_COUNT'])\n",
    "print(totalNeighborhood_count)"
   ]
  },
  {
   "cell_type": "code",
   "execution_count": 8,
   "id": "minute-cooler",
   "metadata": {},
   "outputs": [
    {
     "name": "stdout",
     "output_type": "stream",
     "text": [
      "Skew: -0.16300591617118826\n",
      "Kurtosis: -1.3912742382271468\n"
     ]
    },
    {
     "data": {
      "text/plain": [
       "Ttest_1sampResult(statistic=0.3627381250550055, pvalue=0.7243500069273172)"
      ]
     },
     "execution_count": 8,
     "metadata": {},
     "output_type": "execute_result"
    }
   ],
   "source": [
    "# We check skew and kurtosis\n",
    "print('Skew:', stats.skew(totalNeighborhood_count))\n",
    "print('Kurtosis:', stats.kurtosis(totalNeighborhood_count))\n",
    "\n",
    "# Notice Probability Value (P-Value) is 72.43% which is > 5%, therefore we fail to reject the null hypothesis (H_0) \n",
    "#... so we must accept H_0. The number of neighborhoods in one random delivery-route is on-average 2 as stated initially.\n",
    "\n",
    "# Notice $T$ = .36, but for a sample with n-rows and a 95% confidence interval, T_c = 2.201. \n",
    "#...However, .36 is NOT > 2.201 but T < T_c, so we fail to reject H_0. Meaning that we accept the null hypothesis.\n",
    "stats.ttest_1samp(totalNeighborhood_count, 2)"
   ]
  },
  {
   "cell_type": "code",
   "execution_count": 9,
   "id": "configured-minnesota",
   "metadata": {},
   "outputs": [
    {
     "name": "stderr",
     "output_type": "stream",
     "text": [
      "/Library/Frameworks/Python.framework/Versions/3.7/lib/python3.7/site-packages/seaborn/distributions.py:2557: FutureWarning: `distplot` is a deprecated function and will be removed in a future version. Please adapt your code to use either `displot` (a figure-level function with similar flexibility) or `histplot` (an axes-level function for histograms).\n",
      "  warnings.warn(msg, FutureWarning)\n"
     ]
    },
    {
     "data": {
      "text/plain": [
       "<function matplotlib.pyplot.figure(num=None, figsize=None, dpi=None, facecolor=None, edgecolor=None, frameon=True, FigureClass=<class 'matplotlib.figure.Figure'>, clear=False, **kwargs)>"
      ]
     },
     "execution_count": 9,
     "metadata": {},
     "output_type": "execute_result"
    },
    {
     "data": {
      "image/png": "[encoded data removed]",
      "text/plain": [
       "<Figure size 432x288 with 1 Axes>"
      ]
     },
     "metadata": {
      "needs_background": "light"
     },
     "output_type": "display_data"
    }
   ],
   "source": [
    "# Now we plot the distribution\n",
    "plot_distribution(graph1)"
   ]
  },
  {
   "cell_type": "markdown",
   "id": "consecutive-remedy",
   "metadata": {},
   "source": [
    "## 3. Statistical Hypothesis Testing for the probability of working in Downtown - (PART I)"
   ]
  },
  {
   "cell_type": "markdown",
   "id": "single-journey",
   "metadata": {},
   "source": [
    "$H_{0}$ = The probability of working in downtown area during any route is greater than 50%."
   ]
  },
  {
   "cell_type": "markdown",
   "id": "serial-refrigerator",
   "metadata": {},
   "source": [
    "$H_{a}$ = The probability of working in downtown area during any route is less than or equal to 50%."
   ]
  },
  {
   "cell_type": "markdown",
   "id": "hidden-equipment",
   "metadata": {},
   "source": [
    "$P$ = .5 (P refers to probability in this test)."
   ]
  },
  {
   "cell_type": "markdown",
   "id": "recorded-impossible",
   "metadata": {},
   "source": [
    "Therefore we now state the Null Hypothesis ($H_{0}$) and Alternate Hypothesis ($H_{a}$). This is a 1-tailed (sided) hypothesis test."
   ]
  },
  {
   "cell_type": "markdown",
   "id": "disturbed-advocacy",
   "metadata": {},
   "source": [
    "$H_{0}$ : $P$ > .50"
   ]
  },
  {
   "cell_type": "markdown",
   "id": "restricted-output",
   "metadata": {},
   "source": [
    "$H_{a}$ : $P$ $\\leqslant$ .50"
   ]
  },
  {
   "cell_type": "markdown",
   "id": "sapphire-formula",
   "metadata": {},
   "source": [
    "NOTE: If P-Value is less than 5%, then the $H_{0}$ gets rejected, hence we accept $H_{a}$. As a rule of thumb, 5% is chosen because we have a confidence interval of 95%. Another way to test the null hypothesis or $H_{0}$, is throughout the T-Value (or statistic value from 'stats.ttest_1sampResult' value). If T-Value or $T$ > $T_{c}$ or T-Critical (from the T-Table) then we can reject $H_0$."
   ]
  },
  {
   "cell_type": "markdown",
   "id": "nasty-profit",
   "metadata": {},
   "source": [
    "..."
   ]
  },
  {
   "cell_type": "markdown",
   "id": "strange-matrix",
   "metadata": {},
   "source": [
    "## One-Sample 1-Tailed T-Test (PART II)"
   ]
  },
  {
   "cell_type": "code",
   "execution_count": 10,
   "id": "mediterranean-soundtrack",
   "metadata": {},
   "outputs": [
    {
     "name": "stdout",
     "output_type": "stream",
     "text": [
      "[1.0, 1.0, 0.5, 1.0, 1.0, 1.0, 1.0, 1.0, 1.0, 1.0, 1.0]\n"
     ]
    }
   ],
   "source": [
    "# We set convert one column to an array\n",
    "# We compile data that gets get plotted (graph2)\n",
    "downtownProbability = np.array(data['NON-DWTN_EMPIRICAL_PROBABILITY'])\n",
    "downtownProbability = list(downtownProbability)\n",
    "graph2 = np.array(data['NON-DWTN_EMPIRICAL_PROBABILITY'])\n",
    "print(downtownProbability)"
   ]
  },
  {
   "cell_type": "code",
   "execution_count": 11,
   "id": "typical-matthew",
   "metadata": {},
   "outputs": [
    {
     "name": "stdout",
     "output_type": "stream",
     "text": [
      "Skew: -0.16300591617118826\n",
      "Kurtosis: -1.3912742382271468\n"
     ]
    }
   ],
   "source": [
    "# We check skew and kurtosis\n",
    "print('Skew:', stats.skew(totalNeighborhood_count))\n",
    "print('Kurtosis:', stats.kurtosis(totalNeighborhood_count))"
   ]
  },
  {
   "cell_type": "code",
   "execution_count": 12,
   "id": "exterior-arbor",
   "metadata": {},
   "outputs": [
    {
     "name": "stdout",
     "output_type": "stream",
     "text": [
      "T-Value:  10.000000000000002\n",
      "P-Value:  1.589553175596407e-06\n",
      "Reject Null Hypothesis for greater-than test\n"
     ]
    }
   ],
   "source": [
    "# Now we run the defined testing function where the inputs are an array & our null hypothesis\n",
    "# Since the odds of working in downtown are low, we should expect our hypothesis to get rejected \n",
    "one_sample_one_tailed(downtownProbability,0.5)"
   ]
  },
  {
   "cell_type": "code",
   "execution_count": 13,
   "id": "danish-genius",
   "metadata": {},
   "outputs": [
    {
     "name": "stderr",
     "output_type": "stream",
     "text": [
      "/Library/Frameworks/Python.framework/Versions/3.7/lib/python3.7/site-packages/seaborn/distributions.py:2557: FutureWarning: `distplot` is a deprecated function and will be removed in a future version. Please adapt your code to use either `displot` (a figure-level function with similar flexibility) or `histplot` (an axes-level function for histograms).\n",
      "  warnings.warn(msg, FutureWarning)\n"
     ]
    },
    {
     "data": {
      "text/plain": [
       "<function matplotlib.pyplot.figure(num=None, figsize=None, dpi=None, facecolor=None, edgecolor=None, frameon=True, FigureClass=<class 'matplotlib.figure.Figure'>, clear=False, **kwargs)>"
      ]
     },
     "execution_count": 13,
     "metadata": {},
     "output_type": "execute_result"
    },
    {
     "data": {
      "image/png": "[encoded data removed]",
      "text/plain": [
       "<Figure size 432x288 with 1 Axes>"
      ]
     },
     "metadata": {
      "needs_background": "light"
     },
     "output_type": "display_data"
    }
   ],
   "source": [
    "# Now we plot the distribution\n",
    "# Since the probability of NOT working on downtown is much higher, we expect a skewed graph\n",
    "plot_distribution(graph2)"
   ]
  },
  {
   "cell_type": "markdown",
   "id": "renewable-roman",
   "metadata": {},
   "source": [
    "## 4. Conclusion"
   ]
  },
  {
   "cell_type": "code",
   "execution_count": null,
   "id": "exempt-effects",
   "metadata": {},
   "outputs": [],
   "source": [
    "# The first test (2-tailed for one sample) successfully accepts our null hypothesis stating that there’s 2 \n",
    "# neighborhoods on average on any route."
   ]
  },
  {
   "cell_type": "code",
   "execution_count": null,
   "id": "actual-biology",
   "metadata": {},
   "outputs": [],
   "source": [
    "# Unlike the previous test, we reject our null hypothesis stating that there’s a chance greater than 50% of making \n",
    "# deliveries in downtown. This confirms the fact that working in this area is statistically not likely; meaning that \n",
    "# we accept the alternative hypothesis."
   ]
  }
 ],
 "metadata": {
  "kernelspec": {
   "display_name": "Python 3",
   "language": "python",
   "name": "python3"
  },
  "language_info": {
   "codemirror_mode": {
    "name": "ipython",
    "version": 3
   },
   "file_extension": ".py",
   "mimetype": "text/x-python",
   "name": "python",
   "nbconvert_exporter": "python",
   "pygments_lexer": "ipython3",
   "version": "3.7.0"
  }
 },
 "nbformat": 4,
 "nbformat_minor": 5
}
